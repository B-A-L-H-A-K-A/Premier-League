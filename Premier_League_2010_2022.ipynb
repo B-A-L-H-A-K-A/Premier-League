{
  "nbformat": 4,
  "nbformat_minor": 0,
  "metadata": {
    "colab": {
      "provenance": [],
      "authorship_tag": "ABX9TyPiLglc0nKthVWVHGx6CEvF",
      "include_colab_link": true
    },
    "kernelspec": {
      "name": "python3",
      "display_name": "Python 3"
    },
    "language_info": {
      "name": "python"
    }
  },
  "cells": [
    {
      "cell_type": "markdown",
      "metadata": {
        "id": "view-in-github",
        "colab_type": "text"
      },
      "source": [
        "<a href=\"https://colab.research.google.com/github/B-A-L-H-A-K-A/Premier-League/blob/main/Premier_League_2010_2022.ipynb\" target=\"_parent\"><img src=\"https://colab.research.google.com/assets/colab-badge.svg\" alt=\"Open In Colab\"/></a>"
      ]
    },
    {
      "cell_type": "markdown",
      "source": [
        "#Premier League 2010-2022\n",
        " ## Computing for Economics and Business \n",
        " ### Professor: João Rala Cordeiro\n",
        " #### André da Paz Henriques Amado | 109815\n",
        " #### 2022/2023\n",
        " #### ISCTE - IUL\n",
        " #### https://www.kaggle.com/datasets/ziadahmedmohamed/premier-league-2010-2022?select=2022.csv\n",
        "\n",
        "####INTRODUCTION\n",
        "The Premier League is the most popular and competitive football league in the world. Between the years 2010 and 2022, the competition had a variety of winning teams, from the traditional Manchester United to the surprising Leicester City. In this data analysis, we'll examine how teams perform in terms of goals scored, points earned, and other key stats. We'll also look at how teams have evolved over time.\n",
        "\n",
        "\n",
        "\n",
        "\n",
        "\n"
      ],
      "metadata": {
        "id": "iwFd2bHQ6w2N"
      }
    },
    {
      "cell_type": "markdown",
      "source": [
        "<img src=\"https://img.theculturetrip.com/1440x807/smart/wp-content/uploads/2016/08/premier_league_rebrands_designstudio_01.jpg\">"
      ],
      "metadata": {
        "id": "6CJj-Lp7XZ1G"
      }
    },
    {
      "cell_type": "markdown",
      "source": [
        "- Year\n",
        "- Pos: Position at the end of the season\n",
        "- Team\n",
        "- City: Team City\n",
        "- W: Number of Wins at the end of the season\n",
        "- D: Number of Draws at the end of the season\n",
        "- L: Number of Loses at the end of the season\n",
        "- GF: Goals Scored at the end of the season\n",
        "- GA: Goals Conceded at the end of the season\n",
        "- GD: Goals Difference at the end of the season\n",
        "- Pts: Points at the end of the season"
      ],
      "metadata": {
        "id": "U3blKdX0bomW"
      }
    },
    {
      "cell_type": "markdown",
      "source": [
        "# Data Handling"
      ],
      "metadata": {
        "id": "0qAlLFHj7_YN"
      }
    },
    {
      "cell_type": "code",
      "source": [
        "import pandas as pd\n",
        "import numpy as np\n",
        "import seaborn as sns\n",
        "import matplotlib.pyplot as plt\n",
        "from sklearn.linear_model import LinearRegression\n",
        "import os\n"
      ],
      "metadata": {
        "id": "Amu3ZBOC8Baw"
      },
      "execution_count": 65,
      "outputs": []
    },
    {
      "cell_type": "code",
      "source": [
        "dfs = []\n",
        "\n",
        "for year in range(2010, 2023):\n",
        "    path = f'{year}.csv'\n",
        "    df = pd.read_csv(path, sep=',', header=0)\n",
        "    df.insert(loc=0, column='year', value=year)\n",
        "    dfs.append(df)\n",
        "\n",
        "PL = pd.concat(dfs)\n",
        "PL = PL.reset_index(drop=True)"
      ],
      "metadata": {
        "id": "htKEDFg8_KMr"
      },
      "execution_count": 66,
      "outputs": []
    },
    {
      "cell_type": "code",
      "source": [
        "print(PL)"
      ],
      "metadata": {
        "id": "Ms1inP0_z4Vu",
        "colab": {
          "base_uri": "https://localhost:8080/"
        },
        "outputId": "3674de25-b47d-47c3-e23e-6a42f84b1eae"
      },
      "execution_count": 67,
      "outputs": [
        {
          "output_type": "stream",
          "name": "stdout",
          "text": [
            "     year  Pos               Team   W   D   L   GF  GA   GD  Pts\n",
            "0    2010    1           Chelsea   27   5   6  103  32  +71   86\n",
            "1    2010    2  Manchester United  27   4   7   86  28  +58   85\n",
            "2    2010    3            Arsenal  23   6   9   83  41  +42   75\n",
            "3    2010    4  Tottenham Hotspur  21   7  10   67  41  +26   70\n",
            "4    2010    5    Manchester City  18  13   7   73  45  +28   67\n",
            "..    ...  ...                ...  ..  ..  ..  ...  ..  ...  ...\n",
            "255  2022   16            Everton  11   6  21   43  66  ?23   39\n",
            "256  2022   17       Leeds United   9  11  18   42  79  ?37   38\n",
            "257  2022   18           Burnley    7  14  17   34  53  ?19   35\n",
            "258  2022   19           Watford    6   5  27   34  77  ?43   23\n",
            "259  2022   20      Norwich City    5   7  26   23  84  ?61   22\n",
            "\n",
            "[260 rows x 10 columns]\n"
          ]
        }
      ]
    },
    {
      "cell_type": "code",
      "source": [
        "#remove the space before and after teams names\n",
        "PL['Team'] = PL['Team'].str.strip()"
      ],
      "metadata": {
        "id": "xxJMWxUr0We4"
      },
      "execution_count": 68,
      "outputs": []
    },
    {
      "cell_type": "code",
      "source": [
        "#replace '?' for '-'\n",
        "PL['GD'] = PL['GD'].str.replace('?', '-', regex=False)"
      ],
      "metadata": {
        "id": "cXuCRr0B0WaS"
      },
      "execution_count": 69,
      "outputs": []
    },
    {
      "cell_type": "code",
      "source": [
        "print(PL)"
      ],
      "metadata": {
        "id": "PPmeiDXO0WYj",
        "colab": {
          "base_uri": "https://localhost:8080/"
        },
        "outputId": "9d923cc2-b23d-4505-9cda-e5f5cc26fc83"
      },
      "execution_count": 70,
      "outputs": [
        {
          "output_type": "stream",
          "name": "stdout",
          "text": [
            "     year  Pos               Team   W   D   L   GF  GA   GD  Pts\n",
            "0    2010    1            Chelsea  27   5   6  103  32  +71   86\n",
            "1    2010    2  Manchester United  27   4   7   86  28  +58   85\n",
            "2    2010    3            Arsenal  23   6   9   83  41  +42   75\n",
            "3    2010    4  Tottenham Hotspur  21   7  10   67  41  +26   70\n",
            "4    2010    5    Manchester City  18  13   7   73  45  +28   67\n",
            "..    ...  ...                ...  ..  ..  ..  ...  ..  ...  ...\n",
            "255  2022   16            Everton  11   6  21   43  66  -23   39\n",
            "256  2022   17       Leeds United   9  11  18   42  79  -37   38\n",
            "257  2022   18            Burnley   7  14  17   34  53  -19   35\n",
            "258  2022   19            Watford   6   5  27   34  77  -43   23\n",
            "259  2022   20       Norwich City   5   7  26   23  84  -61   22\n",
            "\n",
            "[260 rows x 10 columns]\n"
          ]
        }
      ]
    },
    {
      "cell_type": "code",
      "source": [
        "#confirm if there are any null in PL db\n",
        "PL.isna().sum()"
      ],
      "metadata": {
        "colab": {
          "base_uri": "https://localhost:8080/"
        },
        "id": "1m8XP9OKinrG",
        "outputId": "0339e727-af52-430d-aeff-4684107f78d6"
      },
      "execution_count": 71,
      "outputs": [
        {
          "output_type": "execute_result",
          "data": {
            "text/plain": [
              "year    0\n",
              "Pos     0\n",
              "Team    0\n",
              "W       0\n",
              "D       0\n",
              "L       0\n",
              "GF      0\n",
              "GA      0\n",
              "GD      0\n",
              "Pts     0\n",
              "dtype: int64"
            ]
          },
          "metadata": {},
          "execution_count": 71
        }
      ]
    },
    {
      "cell_type": "markdown",
      "source": [
        "# Data Analysis"
      ],
      "metadata": {
        "id": "XfAnagDihmhK"
      }
    },
    {
      "cell_type": "markdown",
      "source": [
        "# Teams"
      ],
      "metadata": {
        "id": "WR9RpGoy5E0D"
      }
    },
    {
      "cell_type": "code",
      "source": [
        "#see all teams that played in the premier league in the seasons between 2010 and 2022\n",
        "team_list = PL['Team'].tolist()\n",
        "print(team_list)"
      ],
      "metadata": {
        "id": "RhC01j450WWG",
        "colab": {
          "base_uri": "https://localhost:8080/"
        },
        "outputId": "a06dc669-76e6-4231-89f0-659365f8e504"
      },
      "execution_count": 72,
      "outputs": [
        {
          "output_type": "stream",
          "name": "stdout",
          "text": [
            "['Chelsea', 'Manchester United', 'Arsenal', 'Tottenham Hotspur', 'Manchester City', 'Aston Villa', 'Liverpool', 'Everton', 'Birmingham City', 'Blackburn Rovers', 'Stoke City', 'Fulham', 'Sunderland', 'Bolton Wanderers', 'Wolverhampton Wanderers', 'Wigan Athletic', 'West Ham United', 'Burnley', 'Hull City', 'Portsmouth', 'Manchester United', 'Chelsea', 'Manchester City', 'Arsenal', 'Tottenham Hotspur', 'Liverpool', 'Everton', 'Fulham', 'Aston Villa', 'Sunderland', 'West Bromwich Albion', 'Newcastle United', 'Stoke City', 'Bolton Wanderers', 'Blackburn Rovers', 'Wigan Athletic', 'Wolverhampton Wanderers', 'Birmingham City', 'Blackpool', 'West Ham United', 'Manchester City', 'Manchester United', 'Arsenal', 'Tottenham Hotspur', 'Newcastle United', 'Chelsea', 'Everton', 'Liverpool', 'Fulham', 'West Bromwich Albion', 'Swansea City', 'Norwich City', 'Sunderland', 'Stoke City', 'Wigan Athletic', 'Aston Villa', 'Queens Park Rangers', 'Bolton Wanderers', 'Blackburn Rovers', 'Wolverhampton Wanderers', 'Manchester United', 'Manchester City', 'Chelsea', 'Arsenal', 'Tottenham Hotspur', 'Everton', 'Liverpool', 'West Bromwich Albion', 'Swansea City', 'West Ham United', 'Norwich City', 'Fulham', 'Stoke City', 'Southampton', 'Aston Villa', 'Newcastle United', 'Sunderland', 'Wigan Athletic', 'Reading', 'Queens Park Rangers', 'Manchester City', 'Liverpool', 'Chelsea', 'Arsenal', 'Everton', 'Tottenham Hotspur', 'Manchester United', 'Southampton', 'Stoke City', 'Newcastle United', 'Crystal Palace', 'Swansea City', 'West Ham United', 'Sunderland', 'Aston Villa', 'Hull City', 'West Bromwich Albion', 'Norwich City', 'Fulham', 'Cardiff City', 'Chelsea', 'Manchester City', 'Arsenal', 'Manchester United', 'Tottenham Hotspur', 'Liverpool', 'Southampton', 'Swansea City', 'Stoke City', 'Crystal Palace', 'Everton', 'West Ham United', 'West Bromwich Albion', 'Leicester City', 'Newcastle United', 'Sunderland', 'Aston Villa', 'Hull City', 'Burnley', 'Queens Park Rangers', 'Leicester City', 'Arsenal', 'Tottenham Hotspur', 'Manchester City', 'Manchester United', 'Southampton', 'West Ham United', 'Liverpool', 'Stoke City', 'Chelsea', 'Everton', 'Swansea City', 'Watford', 'West Bromwich Albion', 'Crystal Palace', 'Bournemouth', 'Sunderland', 'Newcastle United', 'Norwich City', 'Aston Villa', 'Chelsea', 'Tottenham Hotspur', 'Manchester City', 'Liverpool', 'Arsenal', 'Manchester United', 'Everton', 'Southampton', 'Bournemouth', 'West Bromwich Albion', 'West Ham United', 'Leicester City', 'Stoke City', 'Crystal Palace', 'Swansea City', 'Burnley', 'Watford', 'Hull City', 'Middlesbrough', 'Sunderland', 'Manchester City', 'Manchester United', 'Tottenham Hotspur', 'Liverpool', 'Chelsea', 'Arsenal', 'Burnley', 'Everton', 'Leicester City', 'Newcastle United', 'Crystal Palace', 'Bournemouth', 'West Ham United', 'Watford', 'Brighton & Hove Albion', 'Huddersfield Town', 'Southampton', 'Swansea City', 'Stoke City', 'West Bromwich Albion', 'Manchester City', 'Liverpool', 'Chelsea', 'Tottenham Hotspur', 'Arsenal', 'Manchester United', 'Wolverhampton Wanderers', 'Everton', 'Leicester City', 'West Ham United', 'Watford', 'Crystal Palace', 'Newcastle United', 'Bournemouth', 'Burnley', 'Southampton', 'Brighton & Hove Albion', 'Cardiff City', 'Fulham', 'Huddersfield Town', 'Liverpool', 'Manchester City', 'Manchester United', 'Chelsea', 'Leicester City', 'Tottenham Hotspur', 'Wolverhampton Wanderers', 'Arsenal', 'Sheffield United', 'Burnley', 'Southampton', 'Everton', 'Newcastle United', 'Crystal Palace', 'Brighton & Hove Albion', 'West Ham United', 'Aston Villa', 'Bournemouth', 'Watford', 'Norwich City', 'Manchester City', 'Manchester United', 'Liverpool', 'Chelsea', 'Leicester City', 'West Ham United', 'Tottenham Hotspur', 'Arsenal', 'Leeds United', 'Everton', 'Aston Villa', 'Newcastle United', 'Wolverhampton Wanderers', 'Crystal Palace', 'Southampton', 'Brighton & Hove Albion', 'Burnley', 'Fulham', 'West Bromwich Albion', 'Sheffield United', 'Manchester City', 'Liverpool', 'Chelsea', 'Tottenham Hotspur', 'Arsenal', 'Manchester United', 'West Ham United', 'Leicester City', 'Brighton & Hove Albion', 'Wolverhampton Wanderers', 'Newcastle United', 'Crystal Palace', 'Brentford', 'Aston Villa', 'Southampton', 'Everton', 'Leeds United', 'Burnley', 'Watford', 'Norwich City']\n"
          ]
        }
      ]
    },
    {
      "cell_type": "code",
      "source": [
        "#unique teams\n",
        "PL_Teams = PL['Team'].unique()\n",
        "print(PL_Teams)"
      ],
      "metadata": {
        "id": "GuEH6t7b0WUS",
        "colab": {
          "base_uri": "https://localhost:8080/"
        },
        "outputId": "37ba8362-4761-4352-c7d4-b7ef5da9fbbe"
      },
      "execution_count": 73,
      "outputs": [
        {
          "output_type": "stream",
          "name": "stdout",
          "text": [
            "['Chelsea' 'Manchester United' 'Arsenal' 'Tottenham Hotspur'\n",
            " 'Manchester City' 'Aston Villa' 'Liverpool' 'Everton' 'Birmingham City'\n",
            " 'Blackburn Rovers' 'Stoke City' 'Fulham' 'Sunderland' 'Bolton Wanderers'\n",
            " 'Wolverhampton Wanderers' 'Wigan Athletic' 'West Ham United' 'Burnley'\n",
            " 'Hull City' 'Portsmouth' 'West Bromwich Albion' 'Newcastle United'\n",
            " 'Blackpool' 'Swansea City' 'Norwich City' 'Queens Park Rangers'\n",
            " 'Southampton' 'Reading' 'Crystal Palace' 'Cardiff City' 'Leicester City'\n",
            " 'Watford' 'Bournemouth' 'Middlesbrough' 'Brighton & Hove Albion'\n",
            " 'Huddersfield Town' 'Sheffield United' 'Leeds United' 'Brentford']\n"
          ]
        }
      ]
    },
    {
      "cell_type": "code",
      "source": [
        "#sort unique teams\n",
        "SortedTeams = sorted(PL_Teams)\n",
        "print(SortedTeams)"
      ],
      "metadata": {
        "id": "5avOMvSV0WSB",
        "colab": {
          "base_uri": "https://localhost:8080/"
        },
        "outputId": "f0295c63-af2b-4a84-fbea-31dc6b1c1240"
      },
      "execution_count": 74,
      "outputs": [
        {
          "output_type": "stream",
          "name": "stdout",
          "text": [
            "['Arsenal', 'Aston Villa', 'Birmingham City', 'Blackburn Rovers', 'Blackpool', 'Bolton Wanderers', 'Bournemouth', 'Brentford', 'Brighton & Hove Albion', 'Burnley', 'Cardiff City', 'Chelsea', 'Crystal Palace', 'Everton', 'Fulham', 'Huddersfield Town', 'Hull City', 'Leeds United', 'Leicester City', 'Liverpool', 'Manchester City', 'Manchester United', 'Middlesbrough', 'Newcastle United', 'Norwich City', 'Portsmouth', 'Queens Park Rangers', 'Reading', 'Sheffield United', 'Southampton', 'Stoke City', 'Sunderland', 'Swansea City', 'Tottenham Hotspur', 'Watford', 'West Bromwich Albion', 'West Ham United', 'Wigan Athletic', 'Wolverhampton Wanderers']\n"
          ]
        }
      ]
    },
    {
      "cell_type": "code",
      "source": [
        "#total number of teams in Premier League during the years\n",
        "num_teams = PL[\"Team\"].nunique()\n",
        "print(f\"There are {num_teams} different teams.\")"
      ],
      "metadata": {
        "id": "ujlMknQd1z9J",
        "colab": {
          "base_uri": "https://localhost:8080/"
        },
        "outputId": "e32c5b4d-b38f-4d7f-ba67-dd1eec8be2ca"
      },
      "execution_count": 75,
      "outputs": [
        {
          "output_type": "stream",
          "name": "stdout",
          "text": [
            "There are 39 different teams.\n"
          ]
        }
      ]
    },
    {
      "cell_type": "code",
      "source": [
        "#search for all occurrences of the word \"United\" in the \"Team\" column\n",
        "PL[PL['Team'].str.contains(r'United')]\n",
        "\n",
        "#if i wanna see wht i have string ='United' AND when this string have Pos==1\n",
        "#PL_United1 = PL[(PL['Team'].str.contains(r'United')) & (PL['Pos'] == 1)]\n",
        "#print(PL_United1)"
      ],
      "metadata": {
        "colab": {
          "base_uri": "https://localhost:8080/",
          "height": 1000
        },
        "id": "GOZxIXLWm6kp",
        "outputId": "04e07f72-fa3e-4591-ad4f-a5f53da08f0a"
      },
      "execution_count": 76,
      "outputs": [
        {
          "output_type": "execute_result",
          "data": {
            "text/plain": [
              "     year  Pos               Team   W   D   L  GF  GA   GD  Pts\n",
              "1    2010    2  Manchester United  27   4   7  86  28  +58   85\n",
              "16   2010   17    West Ham United   8  11  19  47  66  -19   35\n",
              "20   2011    1  Manchester United  23  11   4  78  37  +41   80\n",
              "31   2011   12   Newcastle United  11  13  14  56  57   -1   46\n",
              "39   2011   20    West Ham United   7  12  19  43  70  -27   33\n",
              "41   2012    2  Manchester United  28   5   5  89  33  +56   89\n",
              "44   2012    5   Newcastle United  19   8  11  56  51   +5   65\n",
              "60   2013    1  Manchester United  28   5   5  86  43  +43   89\n",
              "69   2013   10    West Ham United  12  10  16  45  53   -8   46\n",
              "75   2013   16   Newcastle United  11   8  19  45  68  -23   41\n",
              "86   2014    7  Manchester United  19   7  12  64  43  +21   64\n",
              "89   2014   10   Newcastle United  15   4  19  43  59  -16   49\n",
              "92   2014   13    West Ham United  11   7  20  40  51  -11   40\n",
              "103  2015    4  Manchester United  20  10   8  62  37  +25   70\n",
              "111  2015   12    West Ham United  12  11  15  44  47   -3   47\n",
              "114  2015   15   Newcastle United  10   9  19  40  63  -23   39\n",
              "124  2016    5  Manchester United  19   9  10  49  35  +14   66\n",
              "126  2016    7    West Ham United  16  14   8  65  51  +14   62\n",
              "137  2016   18   Newcastle United   9  10  19  44  65  -21   37\n",
              "145  2017    6  Manchester United  18  15   5  54  29  +25   69\n",
              "150  2017   11    West Ham United  12   9  17  47  64  -17   45\n",
              "161  2018    2  Manchester United  25   6   7  68  28  +40   81\n",
              "169  2018   10   Newcastle United  12   8  18  39  47   -8   44\n",
              "172  2018   13    West Ham United  10  12  16  48  68  -20   42\n",
              "185  2019    6  Manchester United  19   9  10  65  54  +11   66\n",
              "189  2019   10    West Ham United  15   7  16  52  55   -3   52\n",
              "192  2019   13   Newcastle United  12   9  17  42  48   -6   45\n",
              "202  2020    3  Manchester United  18  12   8  66  36  +30   66\n",
              "208  2020    9   Sheffield United  14  12  12  39  39    0   54\n",
              "212  2020   13   Newcastle United  11  11  16  38  58  -20   44\n",
              "215  2020   16    West Ham United  10   9  19  49  62  -13   39\n",
              "221  2021    2  Manchester United  21  11   6  73  44  +29   74\n",
              "225  2021    6    West Ham United  19   8  11  62  47  +15   65\n",
              "228  2021    9       Leeds United  18   5  15  62  54   +8   59\n",
              "231  2021   12   Newcastle United  12   9  17  46  62  -16   45\n",
              "239  2021   20   Sheffield United   7   2  29  20  63  -43   23\n",
              "245  2022    6  Manchester United  16  10  12  57  57    0   58\n",
              "246  2022    7    West Ham United  16   8  14  60  51   +9   56\n",
              "250  2022   11   Newcastle United  13  10  15  44  62  -18   49\n",
              "256  2022   17       Leeds United   9  11  18  42  79  -37   38"
            ],
            "text/html": [
              "\n",
              "  <div id=\"df-613294f2-2229-4b51-bf36-488204e4b8c5\">\n",
              "    <div class=\"colab-df-container\">\n",
              "      <div>\n",
              "<style scoped>\n",
              "    .dataframe tbody tr th:only-of-type {\n",
              "        vertical-align: middle;\n",
              "    }\n",
              "\n",
              "    .dataframe tbody tr th {\n",
              "        vertical-align: top;\n",
              "    }\n",
              "\n",
              "    .dataframe thead th {\n",
              "        text-align: right;\n",
              "    }\n",
              "</style>\n",
              "<table border=\"1\" class=\"dataframe\">\n",
              "  <thead>\n",
              "    <tr style=\"text-align: right;\">\n",
              "      <th></th>\n",
              "      <th>year</th>\n",
              "      <th>Pos</th>\n",
              "      <th>Team</th>\n",
              "      <th>W</th>\n",
              "      <th>D</th>\n",
              "      <th>L</th>\n",
              "      <th>GF</th>\n",
              "      <th>GA</th>\n",
              "      <th>GD</th>\n",
              "      <th>Pts</th>\n",
              "    </tr>\n",
              "  </thead>\n",
              "  <tbody>\n",
              "    <tr>\n",
              "      <th>1</th>\n",
              "      <td>2010</td>\n",
              "      <td>2</td>\n",
              "      <td>Manchester United</td>\n",
              "      <td>27</td>\n",
              "      <td>4</td>\n",
              "      <td>7</td>\n",
              "      <td>86</td>\n",
              "      <td>28</td>\n",
              "      <td>+58</td>\n",
              "      <td>85</td>\n",
              "    </tr>\n",
              "    <tr>\n",
              "      <th>16</th>\n",
              "      <td>2010</td>\n",
              "      <td>17</td>\n",
              "      <td>West Ham United</td>\n",
              "      <td>8</td>\n",
              "      <td>11</td>\n",
              "      <td>19</td>\n",
              "      <td>47</td>\n",
              "      <td>66</td>\n",
              "      <td>-19</td>\n",
              "      <td>35</td>\n",
              "    </tr>\n",
              "    <tr>\n",
              "      <th>20</th>\n",
              "      <td>2011</td>\n",
              "      <td>1</td>\n",
              "      <td>Manchester United</td>\n",
              "      <td>23</td>\n",
              "      <td>11</td>\n",
              "      <td>4</td>\n",
              "      <td>78</td>\n",
              "      <td>37</td>\n",
              "      <td>+41</td>\n",
              "      <td>80</td>\n",
              "    </tr>\n",
              "    <tr>\n",
              "      <th>31</th>\n",
              "      <td>2011</td>\n",
              "      <td>12</td>\n",
              "      <td>Newcastle United</td>\n",
              "      <td>11</td>\n",
              "      <td>13</td>\n",
              "      <td>14</td>\n",
              "      <td>56</td>\n",
              "      <td>57</td>\n",
              "      <td>-1</td>\n",
              "      <td>46</td>\n",
              "    </tr>\n",
              "    <tr>\n",
              "      <th>39</th>\n",
              "      <td>2011</td>\n",
              "      <td>20</td>\n",
              "      <td>West Ham United</td>\n",
              "      <td>7</td>\n",
              "      <td>12</td>\n",
              "      <td>19</td>\n",
              "      <td>43</td>\n",
              "      <td>70</td>\n",
              "      <td>-27</td>\n",
              "      <td>33</td>\n",
              "    </tr>\n",
              "    <tr>\n",
              "      <th>41</th>\n",
              "      <td>2012</td>\n",
              "      <td>2</td>\n",
              "      <td>Manchester United</td>\n",
              "      <td>28</td>\n",
              "      <td>5</td>\n",
              "      <td>5</td>\n",
              "      <td>89</td>\n",
              "      <td>33</td>\n",
              "      <td>+56</td>\n",
              "      <td>89</td>\n",
              "    </tr>\n",
              "    <tr>\n",
              "      <th>44</th>\n",
              "      <td>2012</td>\n",
              "      <td>5</td>\n",
              "      <td>Newcastle United</td>\n",
              "      <td>19</td>\n",
              "      <td>8</td>\n",
              "      <td>11</td>\n",
              "      <td>56</td>\n",
              "      <td>51</td>\n",
              "      <td>+5</td>\n",
              "      <td>65</td>\n",
              "    </tr>\n",
              "    <tr>\n",
              "      <th>60</th>\n",
              "      <td>2013</td>\n",
              "      <td>1</td>\n",
              "      <td>Manchester United</td>\n",
              "      <td>28</td>\n",
              "      <td>5</td>\n",
              "      <td>5</td>\n",
              "      <td>86</td>\n",
              "      <td>43</td>\n",
              "      <td>+43</td>\n",
              "      <td>89</td>\n",
              "    </tr>\n",
              "    <tr>\n",
              "      <th>69</th>\n",
              "      <td>2013</td>\n",
              "      <td>10</td>\n",
              "      <td>West Ham United</td>\n",
              "      <td>12</td>\n",
              "      <td>10</td>\n",
              "      <td>16</td>\n",
              "      <td>45</td>\n",
              "      <td>53</td>\n",
              "      <td>-8</td>\n",
              "      <td>46</td>\n",
              "    </tr>\n",
              "    <tr>\n",
              "      <th>75</th>\n",
              "      <td>2013</td>\n",
              "      <td>16</td>\n",
              "      <td>Newcastle United</td>\n",
              "      <td>11</td>\n",
              "      <td>8</td>\n",
              "      <td>19</td>\n",
              "      <td>45</td>\n",
              "      <td>68</td>\n",
              "      <td>-23</td>\n",
              "      <td>41</td>\n",
              "    </tr>\n",
              "    <tr>\n",
              "      <th>86</th>\n",
              "      <td>2014</td>\n",
              "      <td>7</td>\n",
              "      <td>Manchester United</td>\n",
              "      <td>19</td>\n",
              "      <td>7</td>\n",
              "      <td>12</td>\n",
              "      <td>64</td>\n",
              "      <td>43</td>\n",
              "      <td>+21</td>\n",
              "      <td>64</td>\n",
              "    </tr>\n",
              "    <tr>\n",
              "      <th>89</th>\n",
              "      <td>2014</td>\n",
              "      <td>10</td>\n",
              "      <td>Newcastle United</td>\n",
              "      <td>15</td>\n",
              "      <td>4</td>\n",
              "      <td>19</td>\n",
              "      <td>43</td>\n",
              "      <td>59</td>\n",
              "      <td>-16</td>\n",
              "      <td>49</td>\n",
              "    </tr>\n",
              "    <tr>\n",
              "      <th>92</th>\n",
              "      <td>2014</td>\n",
              "      <td>13</td>\n",
              "      <td>West Ham United</td>\n",
              "      <td>11</td>\n",
              "      <td>7</td>\n",
              "      <td>20</td>\n",
              "      <td>40</td>\n",
              "      <td>51</td>\n",
              "      <td>-11</td>\n",
              "      <td>40</td>\n",
              "    </tr>\n",
              "    <tr>\n",
              "      <th>103</th>\n",
              "      <td>2015</td>\n",
              "      <td>4</td>\n",
              "      <td>Manchester United</td>\n",
              "      <td>20</td>\n",
              "      <td>10</td>\n",
              "      <td>8</td>\n",
              "      <td>62</td>\n",
              "      <td>37</td>\n",
              "      <td>+25</td>\n",
              "      <td>70</td>\n",
              "    </tr>\n",
              "    <tr>\n",
              "      <th>111</th>\n",
              "      <td>2015</td>\n",
              "      <td>12</td>\n",
              "      <td>West Ham United</td>\n",
              "      <td>12</td>\n",
              "      <td>11</td>\n",
              "      <td>15</td>\n",
              "      <td>44</td>\n",
              "      <td>47</td>\n",
              "      <td>-3</td>\n",
              "      <td>47</td>\n",
              "    </tr>\n",
              "    <tr>\n",
              "      <th>114</th>\n",
              "      <td>2015</td>\n",
              "      <td>15</td>\n",
              "      <td>Newcastle United</td>\n",
              "      <td>10</td>\n",
              "      <td>9</td>\n",
              "      <td>19</td>\n",
              "      <td>40</td>\n",
              "      <td>63</td>\n",
              "      <td>-23</td>\n",
              "      <td>39</td>\n",
              "    </tr>\n",
              "    <tr>\n",
              "      <th>124</th>\n",
              "      <td>2016</td>\n",
              "      <td>5</td>\n",
              "      <td>Manchester United</td>\n",
              "      <td>19</td>\n",
              "      <td>9</td>\n",
              "      <td>10</td>\n",
              "      <td>49</td>\n",
              "      <td>35</td>\n",
              "      <td>+14</td>\n",
              "      <td>66</td>\n",
              "    </tr>\n",
              "    <tr>\n",
              "      <th>126</th>\n",
              "      <td>2016</td>\n",
              "      <td>7</td>\n",
              "      <td>West Ham United</td>\n",
              "      <td>16</td>\n",
              "      <td>14</td>\n",
              "      <td>8</td>\n",
              "      <td>65</td>\n",
              "      <td>51</td>\n",
              "      <td>+14</td>\n",
              "      <td>62</td>\n",
              "    </tr>\n",
              "    <tr>\n",
              "      <th>137</th>\n",
              "      <td>2016</td>\n",
              "      <td>18</td>\n",
              "      <td>Newcastle United</td>\n",
              "      <td>9</td>\n",
              "      <td>10</td>\n",
              "      <td>19</td>\n",
              "      <td>44</td>\n",
              "      <td>65</td>\n",
              "      <td>-21</td>\n",
              "      <td>37</td>\n",
              "    </tr>\n",
              "    <tr>\n",
              "      <th>145</th>\n",
              "      <td>2017</td>\n",
              "      <td>6</td>\n",
              "      <td>Manchester United</td>\n",
              "      <td>18</td>\n",
              "      <td>15</td>\n",
              "      <td>5</td>\n",
              "      <td>54</td>\n",
              "      <td>29</td>\n",
              "      <td>+25</td>\n",
              "      <td>69</td>\n",
              "    </tr>\n",
              "    <tr>\n",
              "      <th>150</th>\n",
              "      <td>2017</td>\n",
              "      <td>11</td>\n",
              "      <td>West Ham United</td>\n",
              "      <td>12</td>\n",
              "      <td>9</td>\n",
              "      <td>17</td>\n",
              "      <td>47</td>\n",
              "      <td>64</td>\n",
              "      <td>-17</td>\n",
              "      <td>45</td>\n",
              "    </tr>\n",
              "    <tr>\n",
              "      <th>161</th>\n",
              "      <td>2018</td>\n",
              "      <td>2</td>\n",
              "      <td>Manchester United</td>\n",
              "      <td>25</td>\n",
              "      <td>6</td>\n",
              "      <td>7</td>\n",
              "      <td>68</td>\n",
              "      <td>28</td>\n",
              "      <td>+40</td>\n",
              "      <td>81</td>\n",
              "    </tr>\n",
              "    <tr>\n",
              "      <th>169</th>\n",
              "      <td>2018</td>\n",
              "      <td>10</td>\n",
              "      <td>Newcastle United</td>\n",
              "      <td>12</td>\n",
              "      <td>8</td>\n",
              "      <td>18</td>\n",
              "      <td>39</td>\n",
              "      <td>47</td>\n",
              "      <td>-8</td>\n",
              "      <td>44</td>\n",
              "    </tr>\n",
              "    <tr>\n",
              "      <th>172</th>\n",
              "      <td>2018</td>\n",
              "      <td>13</td>\n",
              "      <td>West Ham United</td>\n",
              "      <td>10</td>\n",
              "      <td>12</td>\n",
              "      <td>16</td>\n",
              "      <td>48</td>\n",
              "      <td>68</td>\n",
              "      <td>-20</td>\n",
              "      <td>42</td>\n",
              "    </tr>\n",
              "    <tr>\n",
              "      <th>185</th>\n",
              "      <td>2019</td>\n",
              "      <td>6</td>\n",
              "      <td>Manchester United</td>\n",
              "      <td>19</td>\n",
              "      <td>9</td>\n",
              "      <td>10</td>\n",
              "      <td>65</td>\n",
              "      <td>54</td>\n",
              "      <td>+11</td>\n",
              "      <td>66</td>\n",
              "    </tr>\n",
              "    <tr>\n",
              "      <th>189</th>\n",
              "      <td>2019</td>\n",
              "      <td>10</td>\n",
              "      <td>West Ham United</td>\n",
              "      <td>15</td>\n",
              "      <td>7</td>\n",
              "      <td>16</td>\n",
              "      <td>52</td>\n",
              "      <td>55</td>\n",
              "      <td>-3</td>\n",
              "      <td>52</td>\n",
              "    </tr>\n",
              "    <tr>\n",
              "      <th>192</th>\n",
              "      <td>2019</td>\n",
              "      <td>13</td>\n",
              "      <td>Newcastle United</td>\n",
              "      <td>12</td>\n",
              "      <td>9</td>\n",
              "      <td>17</td>\n",
              "      <td>42</td>\n",
              "      <td>48</td>\n",
              "      <td>-6</td>\n",
              "      <td>45</td>\n",
              "    </tr>\n",
              "    <tr>\n",
              "      <th>202</th>\n",
              "      <td>2020</td>\n",
              "      <td>3</td>\n",
              "      <td>Manchester United</td>\n",
              "      <td>18</td>\n",
              "      <td>12</td>\n",
              "      <td>8</td>\n",
              "      <td>66</td>\n",
              "      <td>36</td>\n",
              "      <td>+30</td>\n",
              "      <td>66</td>\n",
              "    </tr>\n",
              "    <tr>\n",
              "      <th>208</th>\n",
              "      <td>2020</td>\n",
              "      <td>9</td>\n",
              "      <td>Sheffield United</td>\n",
              "      <td>14</td>\n",
              "      <td>12</td>\n",
              "      <td>12</td>\n",
              "      <td>39</td>\n",
              "      <td>39</td>\n",
              "      <td>0</td>\n",
              "      <td>54</td>\n",
              "    </tr>\n",
              "    <tr>\n",
              "      <th>212</th>\n",
              "      <td>2020</td>\n",
              "      <td>13</td>\n",
              "      <td>Newcastle United</td>\n",
              "      <td>11</td>\n",
              "      <td>11</td>\n",
              "      <td>16</td>\n",
              "      <td>38</td>\n",
              "      <td>58</td>\n",
              "      <td>-20</td>\n",
              "      <td>44</td>\n",
              "    </tr>\n",
              "    <tr>\n",
              "      <th>215</th>\n",
              "      <td>2020</td>\n",
              "      <td>16</td>\n",
              "      <td>West Ham United</td>\n",
              "      <td>10</td>\n",
              "      <td>9</td>\n",
              "      <td>19</td>\n",
              "      <td>49</td>\n",
              "      <td>62</td>\n",
              "      <td>-13</td>\n",
              "      <td>39</td>\n",
              "    </tr>\n",
              "    <tr>\n",
              "      <th>221</th>\n",
              "      <td>2021</td>\n",
              "      <td>2</td>\n",
              "      <td>Manchester United</td>\n",
              "      <td>21</td>\n",
              "      <td>11</td>\n",
              "      <td>6</td>\n",
              "      <td>73</td>\n",
              "      <td>44</td>\n",
              "      <td>+29</td>\n",
              "      <td>74</td>\n",
              "    </tr>\n",
              "    <tr>\n",
              "      <th>225</th>\n",
              "      <td>2021</td>\n",
              "      <td>6</td>\n",
              "      <td>West Ham United</td>\n",
              "      <td>19</td>\n",
              "      <td>8</td>\n",
              "      <td>11</td>\n",
              "      <td>62</td>\n",
              "      <td>47</td>\n",
              "      <td>+15</td>\n",
              "      <td>65</td>\n",
              "    </tr>\n",
              "    <tr>\n",
              "      <th>228</th>\n",
              "      <td>2021</td>\n",
              "      <td>9</td>\n",
              "      <td>Leeds United</td>\n",
              "      <td>18</td>\n",
              "      <td>5</td>\n",
              "      <td>15</td>\n",
              "      <td>62</td>\n",
              "      <td>54</td>\n",
              "      <td>+8</td>\n",
              "      <td>59</td>\n",
              "    </tr>\n",
              "    <tr>\n",
              "      <th>231</th>\n",
              "      <td>2021</td>\n",
              "      <td>12</td>\n",
              "      <td>Newcastle United</td>\n",
              "      <td>12</td>\n",
              "      <td>9</td>\n",
              "      <td>17</td>\n",
              "      <td>46</td>\n",
              "      <td>62</td>\n",
              "      <td>-16</td>\n",
              "      <td>45</td>\n",
              "    </tr>\n",
              "    <tr>\n",
              "      <th>239</th>\n",
              "      <td>2021</td>\n",
              "      <td>20</td>\n",
              "      <td>Sheffield United</td>\n",
              "      <td>7</td>\n",
              "      <td>2</td>\n",
              "      <td>29</td>\n",
              "      <td>20</td>\n",
              "      <td>63</td>\n",
              "      <td>-43</td>\n",
              "      <td>23</td>\n",
              "    </tr>\n",
              "    <tr>\n",
              "      <th>245</th>\n",
              "      <td>2022</td>\n",
              "      <td>6</td>\n",
              "      <td>Manchester United</td>\n",
              "      <td>16</td>\n",
              "      <td>10</td>\n",
              "      <td>12</td>\n",
              "      <td>57</td>\n",
              "      <td>57</td>\n",
              "      <td>0</td>\n",
              "      <td>58</td>\n",
              "    </tr>\n",
              "    <tr>\n",
              "      <th>246</th>\n",
              "      <td>2022</td>\n",
              "      <td>7</td>\n",
              "      <td>West Ham United</td>\n",
              "      <td>16</td>\n",
              "      <td>8</td>\n",
              "      <td>14</td>\n",
              "      <td>60</td>\n",
              "      <td>51</td>\n",
              "      <td>+9</td>\n",
              "      <td>56</td>\n",
              "    </tr>\n",
              "    <tr>\n",
              "      <th>250</th>\n",
              "      <td>2022</td>\n",
              "      <td>11</td>\n",
              "      <td>Newcastle United</td>\n",
              "      <td>13</td>\n",
              "      <td>10</td>\n",
              "      <td>15</td>\n",
              "      <td>44</td>\n",
              "      <td>62</td>\n",
              "      <td>-18</td>\n",
              "      <td>49</td>\n",
              "    </tr>\n",
              "    <tr>\n",
              "      <th>256</th>\n",
              "      <td>2022</td>\n",
              "      <td>17</td>\n",
              "      <td>Leeds United</td>\n",
              "      <td>9</td>\n",
              "      <td>11</td>\n",
              "      <td>18</td>\n",
              "      <td>42</td>\n",
              "      <td>79</td>\n",
              "      <td>-37</td>\n",
              "      <td>38</td>\n",
              "    </tr>\n",
              "  </tbody>\n",
              "</table>\n",
              "</div>\n",
              "      <button class=\"colab-df-convert\" onclick=\"convertToInteractive('df-613294f2-2229-4b51-bf36-488204e4b8c5')\"\n",
              "              title=\"Convert this dataframe to an interactive table.\"\n",
              "              style=\"display:none;\">\n",
              "        \n",
              "  <svg xmlns=\"http://www.w3.org/2000/svg\" height=\"24px\"viewBox=\"0 0 24 24\"\n",
              "       width=\"24px\">\n",
              "    <path d=\"M0 0h24v24H0V0z\" fill=\"none\"/>\n",
              "    <path d=\"M18.56 5.44l.94 2.06.94-2.06 2.06-.94-2.06-.94-.94-2.06-.94 2.06-2.06.94zm-11 1L8.5 8.5l.94-2.06 2.06-.94-2.06-.94L8.5 2.5l-.94 2.06-2.06.94zm10 10l.94 2.06.94-2.06 2.06-.94-2.06-.94-.94-2.06-.94 2.06-2.06.94z\"/><path d=\"M17.41 7.96l-1.37-1.37c-.4-.4-.92-.59-1.43-.59-.52 0-1.04.2-1.43.59L10.3 9.45l-7.72 7.72c-.78.78-.78 2.05 0 2.83L4 21.41c.39.39.9.59 1.41.59.51 0 1.02-.2 1.41-.59l7.78-7.78 2.81-2.81c.8-.78.8-2.07 0-2.86zM5.41 20L4 18.59l7.72-7.72 1.47 1.35L5.41 20z\"/>\n",
              "  </svg>\n",
              "      </button>\n",
              "      \n",
              "  <style>\n",
              "    .colab-df-container {\n",
              "      display:flex;\n",
              "      flex-wrap:wrap;\n",
              "      gap: 12px;\n",
              "    }\n",
              "\n",
              "    .colab-df-convert {\n",
              "      background-color: #E8F0FE;\n",
              "      border: none;\n",
              "      border-radius: 50%;\n",
              "      cursor: pointer;\n",
              "      display: none;\n",
              "      fill: #1967D2;\n",
              "      height: 32px;\n",
              "      padding: 0 0 0 0;\n",
              "      width: 32px;\n",
              "    }\n",
              "\n",
              "    .colab-df-convert:hover {\n",
              "      background-color: #E2EBFA;\n",
              "      box-shadow: 0px 1px 2px rgba(60, 64, 67, 0.3), 0px 1px 3px 1px rgba(60, 64, 67, 0.15);\n",
              "      fill: #174EA6;\n",
              "    }\n",
              "\n",
              "    [theme=dark] .colab-df-convert {\n",
              "      background-color: #3B4455;\n",
              "      fill: #D2E3FC;\n",
              "    }\n",
              "\n",
              "    [theme=dark] .colab-df-convert:hover {\n",
              "      background-color: #434B5C;\n",
              "      box-shadow: 0px 1px 3px 1px rgba(0, 0, 0, 0.15);\n",
              "      filter: drop-shadow(0px 1px 2px rgba(0, 0, 0, 0.3));\n",
              "      fill: #FFFFFF;\n",
              "    }\n",
              "  </style>\n",
              "\n",
              "      <script>\n",
              "        const buttonEl =\n",
              "          document.querySelector('#df-613294f2-2229-4b51-bf36-488204e4b8c5 button.colab-df-convert');\n",
              "        buttonEl.style.display =\n",
              "          google.colab.kernel.accessAllowed ? 'block' : 'none';\n",
              "\n",
              "        async function convertToInteractive(key) {\n",
              "          const element = document.querySelector('#df-613294f2-2229-4b51-bf36-488204e4b8c5');\n",
              "          const dataTable =\n",
              "            await google.colab.kernel.invokeFunction('convertToInteractive',\n",
              "                                                     [key], {});\n",
              "          if (!dataTable) return;\n",
              "\n",
              "          const docLinkHtml = 'Like what you see? Visit the ' +\n",
              "            '<a target=\"_blank\" href=https://colab.research.google.com/notebooks/data_table.ipynb>data table notebook</a>'\n",
              "            + ' to learn more about interactive tables.';\n",
              "          element.innerHTML = '';\n",
              "          dataTable['output_type'] = 'display_data';\n",
              "          await google.colab.output.renderOutput(dataTable, element);\n",
              "          const docLink = document.createElement('div');\n",
              "          docLink.innerHTML = docLinkHtml;\n",
              "          element.appendChild(docLink);\n",
              "        }\n",
              "      </script>\n",
              "    </div>\n",
              "  </div>\n",
              "  "
            ]
          },
          "metadata": {},
          "execution_count": 76
        }
      ]
    },
    {
      "cell_type": "markdown",
      "source": [
        "### Question 1 - How many teams passed in the premier league over these years?\n",
        "##### Realizing which ones never dropped from a division and which ones did and went up to understand the years they were in the premier league."
      ],
      "metadata": {
        "id": "Ek_PI7Ttl0f-"
      }
    },
    {
      "cell_type": "code",
      "source": [
        "#teams that are always in the premier league\n",
        "PLallYears = PL['Team'].value_counts()[PL['Team'].value_counts() == 13].index.tolist()\n",
        "for team in PLallYears:\n",
        "    print(team)"
      ],
      "metadata": {
        "colab": {
          "base_uri": "https://localhost:8080/"
        },
        "id": "GBlr0hzrpooq",
        "outputId": "05622003-3f23-4418-e454-7c078026f826"
      },
      "execution_count": 77,
      "outputs": [
        {
          "output_type": "stream",
          "name": "stdout",
          "text": [
            "Chelsea\n",
            "Arsenal\n",
            "Tottenham Hotspur\n",
            "Manchester City\n",
            "Liverpool\n",
            "Everton\n",
            "Manchester United\n"
          ]
        }
      ]
    },
    {
      "cell_type": "code",
      "source": [
        "#in addition to the teams that are always in the premier league, which other teams were there and in what year were they\n",
        "\n",
        "all_years = np.arange(2010, 2023).tolist()\n",
        "teams_by_year = {}\n",
        "\n",
        "#see each year which teams are present\n",
        "for year in all_years:\n",
        "    teams_for_year = PL.loc[PL[\"year\"] == year, \"Team\"].unique()\n",
        "    \n",
        "    for team in teams_for_year:\n",
        "        if team not in teams_by_year:\n",
        "            teams_by_year[team] = []\n",
        "        teams_by_year[team].append(year)\n",
        "        \n",
        "#verify wich teams are not always in Premier League\n",
        "teams_not_present = set()\n",
        "for team, years in teams_by_year.items():\n",
        "    # Confirm if those teams dont appear all years\n",
        "    if not all(year in years for year in all_years):\n",
        "        teams_not_present.add(team)\n",
        "\n",
        "print(\"Unmatched Teams in All Years and Matched Years:\")\n",
        "for team in sorted(teams_not_present):\n",
        "    print(f\"{team}: {teams_by_year[team]}\") "
      ],
      "metadata": {
        "id": "0V1vhObV5k8h",
        "colab": {
          "base_uri": "https://localhost:8080/"
        },
        "outputId": "0ad5817b-10c5-42c3-da7c-3492446bf28f"
      },
      "execution_count": 78,
      "outputs": [
        {
          "output_type": "stream",
          "name": "stdout",
          "text": [
            "Unmatched Teams in All Years and Matched Years:\n",
            "Aston Villa: [2010, 2011, 2012, 2013, 2014, 2015, 2016, 2020, 2021, 2022]\n",
            "Birmingham City: [2010, 2011]\n",
            "Blackburn Rovers: [2010, 2011, 2012]\n",
            "Blackpool: [2011]\n",
            "Bolton Wanderers: [2010, 2011, 2012]\n",
            "Bournemouth: [2016, 2017, 2018, 2019, 2020]\n",
            "Brentford: [2022]\n",
            "Brighton & Hove Albion: [2018, 2019, 2020, 2021, 2022]\n",
            "Burnley: [2010, 2015, 2017, 2018, 2019, 2020, 2021, 2022]\n",
            "Cardiff City: [2014, 2019]\n",
            "Crystal Palace: [2014, 2015, 2016, 2017, 2018, 2019, 2020, 2021, 2022]\n",
            "Fulham: [2010, 2011, 2012, 2013, 2014, 2019, 2021]\n",
            "Huddersfield Town: [2018, 2019]\n",
            "Hull City: [2010, 2014, 2015, 2017]\n",
            "Leeds United: [2021, 2022]\n",
            "Leicester City: [2015, 2016, 2017, 2018, 2019, 2020, 2021, 2022]\n",
            "Middlesbrough: [2017]\n",
            "Newcastle United: [2011, 2012, 2013, 2014, 2015, 2016, 2018, 2019, 2020, 2021, 2022]\n",
            "Norwich City: [2012, 2013, 2014, 2016, 2020, 2022]\n",
            "Portsmouth: [2010]\n",
            "Queens Park Rangers: [2012, 2013, 2015]\n",
            "Reading: [2013]\n",
            "Sheffield United: [2020, 2021]\n",
            "Southampton: [2013, 2014, 2015, 2016, 2017, 2018, 2019, 2020, 2021, 2022]\n",
            "Stoke City: [2010, 2011, 2012, 2013, 2014, 2015, 2016, 2017, 2018]\n",
            "Sunderland: [2010, 2011, 2012, 2013, 2014, 2015, 2016, 2017]\n",
            "Swansea City: [2012, 2013, 2014, 2015, 2016, 2017, 2018]\n",
            "Watford: [2016, 2017, 2018, 2019, 2020, 2022]\n",
            "West Bromwich Albion: [2011, 2012, 2013, 2014, 2015, 2016, 2017, 2018, 2021]\n",
            "West Ham United: [2010, 2011, 2013, 2014, 2015, 2016, 2017, 2018, 2019, 2020, 2021, 2022]\n",
            "Wigan Athletic: [2010, 2011, 2012, 2013]\n",
            "Wolverhampton Wanderers: [2010, 2011, 2012, 2019, 2020, 2021, 2022]\n"
          ]
        }
      ]
    },
    {
      "cell_type": "code",
      "source": [
        "#1st places \n",
        "pos1 = PL[PL['Pos'] == 1]\n",
        "\n",
        "#groupby year and team and then count\n",
        "pos1 = pos1.groupby(['year', 'Team']).size().reset_index(name='count')\n",
        "\n",
        "#remove column \"count\"\n",
        "pos1 = pos1.drop('count', axis=1)\n",
        "\n",
        "#print without the index\n",
        "print(pos1.to_string(index=False))"
      ],
      "metadata": {
        "id": "H83AYNGu5u6h",
        "colab": {
          "base_uri": "https://localhost:8080/"
        },
        "outputId": "adaa66e2-41c2-4a90-96dc-a6d387f673de"
      },
      "execution_count": 79,
      "outputs": [
        {
          "output_type": "stream",
          "name": "stdout",
          "text": [
            " year              Team\n",
            " 2010           Chelsea\n",
            " 2011 Manchester United\n",
            " 2012   Manchester City\n",
            " 2013 Manchester United\n",
            " 2014   Manchester City\n",
            " 2015           Chelsea\n",
            " 2016    Leicester City\n",
            " 2017           Chelsea\n",
            " 2018   Manchester City\n",
            " 2019   Manchester City\n",
            " 2020         Liverpool\n",
            " 2021   Manchester City\n",
            " 2022   Manchester City\n"
          ]
        }
      ]
    },
    {
      "cell_type": "code",
      "source": [
        "#groupby team and count the number of championships\n",
        "champs = pos1.groupby('Team').size().reset_index(name='count')\n",
        "\n",
        "#sort by the count of championships\n",
        "champs = champs.sort_values(by='count', ascending=False)\n",
        "\n",
        "#create a horizontal bar chart\n",
        "plt.barh(champs['Team'], champs['count'])\n",
        "plt.xlabel('Number of championships')\n",
        "plt.ylabel('Team')\n",
        "plt.title('Number of championships by team')\n",
        "\n",
        "#if i wanna put Y legend in the right side\n",
        "plt.gca().invert_xaxis()\n",
        "plt.tick_params(axis='y', which='both', labelleft=False, labelright=True)\n",
        "\n",
        "plt.show()"
      ],
      "metadata": {
        "id": "9cNYfVJG2xRv",
        "colab": {
          "base_uri": "https://localhost:8080/",
          "height": 295
        },
        "outputId": "e2c13b27-e00b-408b-e9c5-13976a9368aa"
      },
      "execution_count": 80,
      "outputs": [
        {
          "output_type": "display_data",
          "data": {
            "text/plain": [
              "<Figure size 432x288 with 1 Axes>"
            ],
            "image/png": "[encoded data removed]"
          },
          "metadata": {
            "needs_background": "light"
          }
        }
      ]
    },
    {
      "cell_type": "code",
      "source": [
        "#Arsenal Path during the years\n",
        "arsenal_data = PL[PL['Team'] == 'Arsenal']\n",
        "\n",
        "plt.plot(arsenal_data['year'], arsenal_data['Pos'])\n",
        "plt.xlabel('Year')\n",
        "plt.ylabel('Position')\n",
        "plt.title('Arsenal in Premier League')\n",
        "plt.show()"
      ],
      "metadata": {
        "id": "B9ZLJ8fN6I9b",
        "colab": {
          "base_uri": "https://localhost:8080/",
          "height": 295
        },
        "outputId": "e2e5ac7e-a2ba-4008-cade-6cba1023402b"
      },
      "execution_count": 81,
      "outputs": [
        {
          "output_type": "display_data",
          "data": {
            "text/plain": [
              "<Figure size 432x288 with 1 Axes>"
            ],
            "image/png": "[encoded data removed]"
          },
          "metadata": {
            "needs_background": "light"
          }
        }
      ]
    },
    {
      "cell_type": "markdown",
      "source": [
        "### Question 2 - What were the winning teams and how was their path over the years?"
      ],
      "metadata": {
        "id": "p3l-twVWmT90"
      }
    },
    {
      "cell_type": "code",
      "source": [
        "#data\n",
        "ChampionsPath = PL"
      ],
      "metadata": {
        "id": "-ZkPUbl5NXvV"
      },
      "execution_count": 82,
      "outputs": []
    },
    {
      "cell_type": "code",
      "source": [
        "#champions teams list\n",
        "ChampionsTeams = ['Chelsea', 'Leicester City', 'Liverpool', 'Manchester City', 'Manchester United']\n"
      ],
      "metadata": {
        "id": "iRz-QIdtNXs0"
      },
      "execution_count": 83,
      "outputs": []
    },
    {
      "cell_type": "code",
      "source": [
        "#filter only the teams that won the premier league\n",
        "ChampionsPath = ChampionsPath[ChampionsPath['Team'].isin(ChampionsTeams)]\n"
      ],
      "metadata": {
        "id": "Dz5n0o3iNXhT"
      },
      "execution_count": 84,
      "outputs": []
    },
    {
      "cell_type": "code",
      "source": [
        "#agrupar por ano e equipa e perceber a posição em cada ano\n",
        "ChampionsGroup = ChampionsPath.groupby(['year', 'Team'])['Pos'].mean().reset_index()\n"
      ],
      "metadata": {
        "id": "LzBkie3ENXfe"
      },
      "execution_count": 85,
      "outputs": []
    },
    {
      "cell_type": "code",
      "source": [
        "#plot\n",
        "fig, ax = plt.subplots(figsize=(10, 6))\n",
        "\n",
        "for team in ChampionsTeams:\n",
        "    ChampionsGroupData = ChampionsGroup[ChampionsGroup['Team'] == team]\n",
        "    ax.plot(ChampionsGroupData['year'], ChampionsGroupData['Pos'], label=team)\n",
        "\n",
        "#range was being used so I had to import builtins to be able to reuse it\n",
        "import builtins\n",
        "range = builtins.range\n",
        "\n",
        "ax.set_xticks(range(2010, 2023))\n",
        "ax.set_xticklabels(range(2010, 2023))\n",
        "ax.set_xlabel('Year')\n",
        "ax.set_ylabel('Position')\n",
        "ax.invert_yaxis()\n",
        "ax.legend()\n",
        "ax.grid(which='both')\n",
        "\n",
        "ax.set_title('Premier League Champions Teams Positions (2010-2022)')\n",
        "\n",
        "plt.show()"
      ],
      "metadata": {
        "colab": {
          "base_uri": "https://localhost:8080/",
          "height": 404
        },
        "id": "NW6OcuBj8sob",
        "outputId": "f0cda7d9-421c-4aa4-ac4a-d792aeacc9f9"
      },
      "execution_count": 86,
      "outputs": [
        {
          "output_type": "display_data",
          "data": {
            "text/plain": [
              "<Figure size 720x432 with 1 Axes>"
            ],
            "image/png": "[encoded data removed]"
          },
          "metadata": {
            "needs_background": "light"
          }
        }
      ]
    },
    {
      "cell_type": "markdown",
      "source": [
        "# City"
      ],
      "metadata": {
        "id": "T47UWmYB5Lqe"
      }
    },
    {
      "cell_type": "code",
      "source": [
        "#dictionary club and city\n",
        "club_cities = {\n",
        "    'Arsenal': 'Londres',\n",
        "    'Aston Villa': 'Birmingham',\n",
        "    'Birmingham City': 'Birmingham',\n",
        "    'Blackburn Rovers': 'Blackburn',\n",
        "    'Blackpool': 'Blackpool',\n",
        "    'Bolton Wanderers': 'Bolton',\n",
        "    'Bournemouth': 'Bournemouth',\n",
        "    'Brentford': 'Londres',\n",
        "    'Brighton & Hove Albion': 'Brighton',\n",
        "    'Burnley': 'Burnley',\n",
        "    'Cardiff City': 'Cardiff',\n",
        "    'Chelsea': 'Londres',\n",
        "    'Crystal Palace': 'Londres',\n",
        "    'Everton': 'Liverpool',\n",
        "    'Fulham': 'Londres',\n",
        "    'Huddersfield Town': 'Huddersfield',\n",
        "    'Hull City': 'Kingston upon Hull',\n",
        "    'Leeds United': 'Leeds',\n",
        "    'Leicester City': 'Leicester',\n",
        "    'Liverpool': 'Liverpool',\n",
        "    'Manchester City': 'Manchester',\n",
        "    'Manchester United': 'Manchester',\n",
        "    'Middlesbrough': 'Middlesbrough',\n",
        "    'Newcastle United': 'Newcastle upon Tyne',\n",
        "    'Norwich City': 'Norwich',\n",
        "    'Portsmouth': 'Portsmouth',\n",
        "    'Queens Park Rangers': 'Londres',\n",
        "    'Reading': 'Reading',\n",
        "    'Sheffield United': 'Sheffield',\n",
        "    'Southampton': 'Southampton',\n",
        "    'Stoke City': 'Stoke-on-Trent',\n",
        "    'Sunderland': 'Sunderland',\n",
        "    'Swansea City': 'Swansea',\n",
        "    'Tottenham Hotspur': 'Londres',\n",
        "    'Watford': 'Watford',\n",
        "    'West Bromwich Albion': 'West Bromwich',\n",
        "    'West Ham United': 'Londres',\n",
        "    'Wigan Athletic': 'Wigan',\n",
        "    'Wolverhampton Wanderers': 'Wolverhampton'\n",
        "}"
      ],
      "metadata": {
        "id": "Yxr12uRZ0WQB"
      },
      "execution_count": 87,
      "outputs": []
    },
    {
      "cell_type": "code",
      "source": [
        "#dictionary keys\n",
        "df_teams = pd.DataFrame(list(club_cities.keys()), columns=['Team'])"
      ],
      "metadata": {
        "id": "4FiQ4Z6V3hC4"
      },
      "execution_count": 88,
      "outputs": []
    },
    {
      "cell_type": "code",
      "source": [
        "#dataframe with the first string of each value matching the dictionary\n",
        "df_city = pd.DataFrame([city.split()[0] for city in club_cities.values() ], columns=['City'])"
      ],
      "metadata": {
        "id": "dcZt4dNd3sTf"
      },
      "execution_count": 89,
      "outputs": []
    },
    {
      "cell_type": "code",
      "source": [
        "#merge both df\n",
        "TeamCity = pd.merge(df_teams, df_city, left_index=True, right_index=True)"
      ],
      "metadata": {
        "id": "xHVLlm2s5dTv"
      },
      "execution_count": 90,
      "outputs": []
    },
    {
      "cell_type": "code",
      "source": [
        "print(TeamCity)"
      ],
      "metadata": {
        "id": "3kh8xci15vy2",
        "colab": {
          "base_uri": "https://localhost:8080/"
        },
        "outputId": "a5c6faa0-71d9-4403-8e78-e4099141a512"
      },
      "execution_count": 91,
      "outputs": [
        {
          "output_type": "stream",
          "name": "stdout",
          "text": [
            "                       Team            City\n",
            "0                   Arsenal         Londres\n",
            "1               Aston Villa      Birmingham\n",
            "2           Birmingham City      Birmingham\n",
            "3          Blackburn Rovers       Blackburn\n",
            "4                 Blackpool       Blackpool\n",
            "5          Bolton Wanderers          Bolton\n",
            "6               Bournemouth     Bournemouth\n",
            "7                 Brentford         Londres\n",
            "8    Brighton & Hove Albion        Brighton\n",
            "9                   Burnley         Burnley\n",
            "10             Cardiff City         Cardiff\n",
            "11                  Chelsea         Londres\n",
            "12           Crystal Palace         Londres\n",
            "13                  Everton       Liverpool\n",
            "14                   Fulham         Londres\n",
            "15        Huddersfield Town    Huddersfield\n",
            "16                Hull City        Kingston\n",
            "17             Leeds United           Leeds\n",
            "18           Leicester City       Leicester\n",
            "19                Liverpool       Liverpool\n",
            "20          Manchester City      Manchester\n",
            "21        Manchester United      Manchester\n",
            "22            Middlesbrough   Middlesbrough\n",
            "23         Newcastle United       Newcastle\n",
            "24             Norwich City         Norwich\n",
            "25               Portsmouth      Portsmouth\n",
            "26      Queens Park Rangers         Londres\n",
            "27                  Reading         Reading\n",
            "28         Sheffield United       Sheffield\n",
            "29              Southampton     Southampton\n",
            "30               Stoke City  Stoke-on-Trent\n",
            "31               Sunderland      Sunderland\n",
            "32             Swansea City         Swansea\n",
            "33        Tottenham Hotspur         Londres\n",
            "34                  Watford         Watford\n",
            "35     West Bromwich Albion            West\n",
            "36          West Ham United         Londres\n",
            "37           Wigan Athletic           Wigan\n",
            "38  Wolverhampton Wanderers   Wolverhampton\n"
          ]
        }
      ]
    },
    {
      "cell_type": "code",
      "source": [
        "#create an empty list to store cities and clubs\n",
        "city_list = []\n",
        "\n",
        "for club in PL['Team']:\n",
        "    city = club_cities[club]\n",
        "    city_list.append(city)\n",
        "\n",
        "#add \"city\" to db\n",
        "PL['city'] = city_list\n",
        "\n",
        "print(PL)"
      ],
      "metadata": {
        "id": "g_9W16NW0WOD",
        "colab": {
          "base_uri": "https://localhost:8080/"
        },
        "outputId": "65f2d334-8b92-470e-e6fc-ca11f6befc48"
      },
      "execution_count": 92,
      "outputs": [
        {
          "output_type": "stream",
          "name": "stdout",
          "text": [
            "     year  Pos               Team   W   D   L   GF  GA   GD  Pts        city\n",
            "0    2010    1            Chelsea  27   5   6  103  32  +71   86     Londres\n",
            "1    2010    2  Manchester United  27   4   7   86  28  +58   85  Manchester\n",
            "2    2010    3            Arsenal  23   6   9   83  41  +42   75     Londres\n",
            "3    2010    4  Tottenham Hotspur  21   7  10   67  41  +26   70     Londres\n",
            "4    2010    5    Manchester City  18  13   7   73  45  +28   67  Manchester\n",
            "..    ...  ...                ...  ..  ..  ..  ...  ..  ...  ...         ...\n",
            "255  2022   16            Everton  11   6  21   43  66  -23   39   Liverpool\n",
            "256  2022   17       Leeds United   9  11  18   42  79  -37   38       Leeds\n",
            "257  2022   18            Burnley   7  14  17   34  53  -19   35     Burnley\n",
            "258  2022   19            Watford   6   5  27   34  77  -43   23     Watford\n",
            "259  2022   20       Norwich City   5   7  26   23  84  -61   22     Norwich\n",
            "\n",
            "[260 rows x 11 columns]\n"
          ]
        }
      ]
    },
    {
      "cell_type": "code",
      "source": [
        "#order our columns\n",
        "PL = PL[['year', 'Pos', 'Team', 'city', 'W', 'D', 'L', 'GF', 'GA', 'GD', 'Pts']]"
      ],
      "metadata": {
        "id": "Hs4LpDaV0WMQ"
      },
      "execution_count": 93,
      "outputs": []
    },
    {
      "cell_type": "markdown",
      "source": [
        "### Question 3 - How many teams are there per city?"
      ],
      "metadata": {
        "id": "CoD-LIySmtUs"
      }
    },
    {
      "cell_type": "code",
      "source": [
        "#how many unique teams there are per city\n",
        "PL.groupby('city')['Team'].nunique()"
      ],
      "metadata": {
        "id": "XV8Q_wiD06Zl",
        "colab": {
          "base_uri": "https://localhost:8080/"
        },
        "outputId": "be83a829-d1a5-4541-de70-bcc6126c55a9"
      },
      "execution_count": 94,
      "outputs": [
        {
          "output_type": "execute_result",
          "data": {
            "text/plain": [
              "city\n",
              "Birmingham             2\n",
              "Blackburn              1\n",
              "Blackpool              1\n",
              "Bolton                 1\n",
              "Bournemouth            1\n",
              "Brighton               1\n",
              "Burnley                1\n",
              "Cardiff                1\n",
              "Huddersfield           1\n",
              "Kingston upon Hull     1\n",
              "Leeds                  1\n",
              "Leicester              1\n",
              "Liverpool              2\n",
              "Londres                8\n",
              "Manchester             2\n",
              "Middlesbrough          1\n",
              "Newcastle upon Tyne    1\n",
              "Norwich                1\n",
              "Portsmouth             1\n",
              "Reading                1\n",
              "Sheffield              1\n",
              "Southampton            1\n",
              "Stoke-on-Trent         1\n",
              "Sunderland             1\n",
              "Swansea                1\n",
              "Watford                1\n",
              "West Bromwich          1\n",
              "Wigan                  1\n",
              "Wolverhampton          1\n",
              "Name: Team, dtype: int64"
            ]
          },
          "metadata": {},
          "execution_count": 94
        }
      ]
    },
    {
      "cell_type": "code",
      "source": [
        "#teams by year in PL\n",
        "PL.groupby('year')['Team'].nunique()"
      ],
      "metadata": {
        "id": "FiyIZRQD06Xq",
        "colab": {
          "base_uri": "https://localhost:8080/"
        },
        "outputId": "b79d2c29-f507-4583-f959-e0e7fff929fb"
      },
      "execution_count": 95,
      "outputs": [
        {
          "output_type": "execute_result",
          "data": {
            "text/plain": [
              "year\n",
              "2010    20\n",
              "2011    20\n",
              "2012    20\n",
              "2013    20\n",
              "2014    20\n",
              "2015    20\n",
              "2016    20\n",
              "2017    20\n",
              "2018    20\n",
              "2019    20\n",
              "2020    20\n",
              "2021    20\n",
              "2022    20\n",
              "Name: Team, dtype: int64"
            ]
          },
          "metadata": {},
          "execution_count": 95
        }
      ]
    },
    {
      "cell_type": "code",
      "source": [
        "#how many times has a city had a club in PL\n",
        "sorted_cities = PL['city'].sort_values()\n",
        "\n",
        "ax = sns.countplot(x=sorted_cities, data=PL, orient='v')\n",
        "ax.set_xticklabels(ax.get_xticklabels(), rotation=90)\n",
        "plt.title('How many times has a city had a club in PL')\n",
        "ax.grid(axis='y', color='gray', linestyle='-', linewidth=0.25)\n",
        "ax.grid(axis='x', color='white', linestyle='-', linewidth=0.25)\n",
        "\n",
        "plt.show()"
      ],
      "metadata": {
        "id": "XLAJPIus06V5",
        "colab": {
          "base_uri": "https://localhost:8080/",
          "height": 391
        },
        "outputId": "662cd51e-d74c-4982-f009-b980a14884c1"
      },
      "execution_count": 96,
      "outputs": [
        {
          "output_type": "display_data",
          "data": {
            "text/plain": [
              "<Figure size 432x288 with 1 Axes>"
            ],
            "image/png": "[encoded data removed]"
          },
          "metadata": {
            "needs_background": "light"
          }
        }
      ]
    },
    {
      "cell_type": "code",
      "source": [
        "#average number of unique teams per city\n",
        "data = PL.groupby(['year', 'city'])['Team'].nunique().groupby('city').mean().round(1)\n",
        "data.plot(kind='bar', figsize=(10, 6))\n",
        "\n",
        "plt.title('Average number of unique teams per city')\n",
        "plt.xlabel('City')\n",
        "plt.ylabel('Average number of unique teams')\n",
        "\n",
        "plt.show()"
      ],
      "metadata": {
        "id": "TfBBkqvIRD99",
        "colab": {
          "base_uri": "https://localhost:8080/",
          "height": 500
        },
        "outputId": "a07d7583-0041-48ac-8e22-15d0e91a1d6e"
      },
      "execution_count": 97,
      "outputs": [
        {
          "output_type": "display_data",
          "data": {
            "text/plain": [
              "<Figure size 720x432 with 1 Axes>"
            ],
            "image/png": "[encoded data removed]"
          },
          "metadata": {
            "needs_background": "light"
          }
        }
      ]
    },
    {
      "cell_type": "code",
      "source": [
        "#average number of unique teams per city\n",
        "PL.groupby(['year', 'city'])['Team'].nunique().groupby('city').mean().round(1)"
      ],
      "metadata": {
        "id": "eHIvJix306UE",
        "colab": {
          "base_uri": "https://localhost:8080/"
        },
        "outputId": "9b08d99e-eb28-4f2c-8734-e0cd5ac7f67c"
      },
      "execution_count": 98,
      "outputs": [
        {
          "output_type": "execute_result",
          "data": {
            "text/plain": [
              "city\n",
              "Birmingham             1.2\n",
              "Blackburn              1.0\n",
              "Blackpool              1.0\n",
              "Bolton                 1.0\n",
              "Bournemouth            1.0\n",
              "Brighton               1.0\n",
              "Burnley                1.0\n",
              "Cardiff                1.0\n",
              "Huddersfield           1.0\n",
              "Kingston upon Hull     1.0\n",
              "Leeds                  1.0\n",
              "Leicester              1.0\n",
              "Liverpool              2.0\n",
              "Londres                5.5\n",
              "Manchester             2.0\n",
              "Middlesbrough          1.0\n",
              "Newcastle upon Tyne    1.0\n",
              "Norwich                1.0\n",
              "Portsmouth             1.0\n",
              "Reading                1.0\n",
              "Sheffield              1.0\n",
              "Southampton            1.0\n",
              "Stoke-on-Trent         1.0\n",
              "Sunderland             1.0\n",
              "Swansea                1.0\n",
              "Watford                1.0\n",
              "West Bromwich          1.0\n",
              "Wigan                  1.0\n",
              "Wolverhampton          1.0\n",
              "Name: Team, dtype: float64"
            ]
          },
          "metadata": {},
          "execution_count": 98
        }
      ]
    },
    {
      "cell_type": "code",
      "source": [
        "#search city per team\n",
        "city = PL.loc[PL['Team'] == 'Arsenal', 'city'].iloc[0]\n",
        "print(city)"
      ],
      "metadata": {
        "id": "oWg84N-806Rs",
        "colab": {
          "base_uri": "https://localhost:8080/"
        },
        "outputId": "3dba6b3f-226b-4288-d167-e2648103b32a"
      },
      "execution_count": 99,
      "outputs": [
        {
          "output_type": "stream",
          "name": "stdout",
          "text": [
            "Londres\n"
          ]
        }
      ]
    },
    {
      "cell_type": "markdown",
      "source": [
        "# Goals"
      ],
      "metadata": {
        "id": "Ei2Sdd9N5RNL"
      }
    },
    {
      "cell_type": "code",
      "source": [
        "#Arsenal goals per year\n",
        "Arsenal_stats = PL.loc[PL['Team'] == 'Arsenal'].groupby('year')['GF'].sum()\n",
        "Arsenal_total = pd.Series(Arsenal_stats.sum())\n",
        "\n",
        "#concat both series in a dataframe\n",
        "TeamXGoals = pd.concat([Arsenal_stats, Arsenal_total], axis=1)\n",
        "TeamXGoals.columns = ['GF','Total']\n",
        "TeamXGoals = TeamXGoals.fillna(0)\n",
        "TeamXGoals = TeamXGoals.astype(int)\n",
        "TeamXGoals.loc['Total'] = TeamXGoals.sum()\n",
        "\n",
        "#delete \"total\" column\n",
        "TeamXGoals = TeamXGoals.iloc[:,:-1]\n",
        "\n",
        "#remove penultime row\n",
        "penultimate_row_index = len(TeamXGoals) - 2\n",
        "penultimate_row = TeamXGoals.iloc[[penultimate_row_index]]\n",
        "TeamXGoals = TeamXGoals.drop(TeamXGoals.index[penultimate_row_index])\n",
        "\n",
        "print(TeamXGoals)"
      ],
      "metadata": {
        "id": "-6eFet-U5Tb0",
        "colab": {
          "base_uri": "https://localhost:8080/"
        },
        "outputId": "cab56a33-14bc-4605-8ca8-6ee5af676829"
      },
      "execution_count": 100,
      "outputs": [
        {
          "output_type": "stream",
          "name": "stdout",
          "text": [
            "        GF\n",
            "2010    83\n",
            "2011    72\n",
            "2012    74\n",
            "2013    72\n",
            "2014    68\n",
            "2015    71\n",
            "2016    65\n",
            "2017    77\n",
            "2018    74\n",
            "2019    73\n",
            "2020    56\n",
            "2021    55\n",
            "2022    61\n",
            "Total  901\n"
          ]
        }
      ]
    },
    {
      "cell_type": "code",
      "source": [
        "Arsenal_stats = PL.loc[PL['Team'] == 'Arsenal'].groupby('year')['GF'].agg(['sum'])\n",
        "Arsenal_stats.loc['Total'] = Arsenal_stats['sum'].sum()\n",
        "print(Arsenal_stats)"
      ],
      "metadata": {
        "colab": {
          "base_uri": "https://localhost:8080/"
        },
        "id": "ujYZAYIAnRXV",
        "outputId": "0f7b92b7-8733-46e6-b8f8-7c328a8cd831"
      },
      "execution_count": 101,
      "outputs": [
        {
          "output_type": "stream",
          "name": "stdout",
          "text": [
            "       sum\n",
            "year      \n",
            "2010    83\n",
            "2011    72\n",
            "2012    74\n",
            "2013    72\n",
            "2014    68\n",
            "2015    71\n",
            "2016    65\n",
            "2017    77\n",
            "2018    74\n",
            "2019    73\n",
            "2020    56\n",
            "2021    55\n",
            "2022    61\n",
            "Total  901\n"
          ]
        }
      ]
    },
    {
      "cell_type": "markdown",
      "source": [
        "### Question 4 - How many goals did each team score?\n",
        "#### The objective is also to understand the team that scored the most."
      ],
      "metadata": {
        "id": "FfTiNdzgm9dW"
      }
    },
    {
      "cell_type": "code",
      "source": [
        "#team with more goals and total goals\n",
        "most_goals_team = PL.groupby('Team')['GF'].sum().idxmax()\n",
        "most_goals = PL.loc[PL['Team'] == most_goals_team, 'GF'].sum()\n",
        "print(f\"The team that scored the most goals was {most_goals_team}, they scored in total {most_goals} gols.\")"
      ],
      "metadata": {
        "id": "NsWxnx0h5bYb",
        "colab": {
          "base_uri": "https://localhost:8080/"
        },
        "outputId": "65b5aea8-60ae-4fb9-eaeb-86d341fd3548"
      },
      "execution_count": 102,
      "outputs": [
        {
          "output_type": "stream",
          "name": "stdout",
          "text": [
            "The team that scored the most goals was Manchester City, they scored in total 1113 gols.\n"
          ]
        }
      ]
    },
    {
      "cell_type": "code",
      "source": [
        "#goals per team\n",
        "goals_by_team = PL.groupby(\"Team\")[\"GF\"].sum()\n",
        "print(goals_by_team)"
      ],
      "metadata": {
        "id": "SrGw55Y45dXr",
        "colab": {
          "base_uri": "https://localhost:8080/"
        },
        "outputId": "6b62f561-da35-48a7-d357-49a68da64b7d"
      },
      "execution_count": 103,
      "outputs": [
        {
          "output_type": "stream",
          "name": "stdout",
          "text": [
            "Team\n",
            "Arsenal                     901\n",
            "Aston Villa                 429\n",
            "Birmingham City              75\n",
            "Blackburn Rovers            135\n",
            "Blackpool                    55\n",
            "Bolton Wanderers            140\n",
            "Bournemouth                 241\n",
            "Brentford                    48\n",
            "Brighton & Hove Albion      190\n",
            "Burnley                     300\n",
            "Cardiff City                 66\n",
            "Chelsea                     928\n",
            "Crystal Palace              387\n",
            "Everton                     678\n",
            "Fulham                      287\n",
            "Huddersfield Town            50\n",
            "Hull City                   142\n",
            "Leeds United                104\n",
            "Leicester City              466\n",
            "Liverpool                   952\n",
            "Manchester City            1113\n",
            "Manchester United           897\n",
            "Middlesbrough                27\n",
            "Newcastle United            493\n",
            "Norwich City                209\n",
            "Portsmouth                   34\n",
            "Queens Park Rangers         115\n",
            "Reading                      43\n",
            "Sheffield United             59\n",
            "Southampton                 480\n",
            "Stoke City                  360\n",
            "Sunderland                  328\n",
            "Swansea City                306\n",
            "Tottenham Hotspur           861\n",
            "Watford                     246\n",
            "West Bromwich Albion        378\n",
            "West Ham United             602\n",
            "Wigan Athletic              166\n",
            "Wolverhampton Wanderers     290\n",
            "Name: GF, dtype: int64\n"
          ]
        }
      ]
    },
    {
      "cell_type": "markdown",
      "source": [
        "# Descriptive Analisys"
      ],
      "metadata": {
        "id": "iTc88gDj6bWt"
      }
    },
    {
      "cell_type": "markdown",
      "source": [
        "####Average (mean): is the sum of all values divided by the number of values.\n",
        "\n",
        "####Median (median): is the value that is in the middle of the data set when they are arranged in ascending or descending order.\n",
        "\n",
        "####Standard deviation (std): is a measure of dispersion that indicates how far the values are from the mean. A high standard deviation value indicates that the values are more spread out, while a low value indicates that the values are closer to the mean.\n",
        "\n",
        "####Minimum value (min): is the smallest value in the dataset.\n",
        "\n",
        "####Maximum value (max): is the largest value in the dataset."
      ],
      "metadata": {
        "id": "LD5-vyqlx7Ka"
      }
    },
    {
      "cell_type": "code",
      "source": [
        "#calculate mean, media, std , min and max for each team in PL dataset \n",
        "team_stats = PL.groupby(\"Team\").agg({\n",
        "    \"Pts\": [\"mean\", \"median\", \"std\", \"min\", \"max\"],\n",
        "    \"W\": [\"mean\", \"median\", \"std\", \"min\", \"max\"],\n",
        "    \"L\": [\"mean\", \"median\", \"std\", \"min\", \"max\"],\n",
        "    \"D\": [\"mean\", \"median\", \"std\", \"min\", \"max\"],\n",
        "    \"GF\": [\"mean\", \"median\", \"std\", \"min\", \"max\"],\n",
        "    \"GA\": [\"mean\", \"median\", \"std\", \"min\", \"max\"]\n",
        "})"
      ],
      "metadata": {
        "id": "T6qer4Re5dE1"
      },
      "execution_count": 104,
      "outputs": []
    },
    {
      "cell_type": "code",
      "source": [
        "team_stats.dropna(inplace=True)"
      ],
      "metadata": {
        "id": "3HJtiw5Ji-nK"
      },
      "execution_count": 105,
      "outputs": []
    },
    {
      "cell_type": "code",
      "source": [
        "print(team_stats)"
      ],
      "metadata": {
        "colab": {
          "base_uri": "https://localhost:8080/"
        },
        "id": "r67VbLfDjK0m",
        "outputId": "4e0cbe0d-73b0-4e37-856d-f50591d4ba17"
      },
      "execution_count": 106,
      "outputs": [
        {
          "output_type": "stream",
          "name": "stdout",
          "text": [
            "                               Pts                                     W  \\\n",
            "                              mean median        std min  max       mean   \n",
            "Team                                                                       \n",
            "Arsenal                  69.615385   70.0   6.423115  56   79  20.538462   \n",
            "Aston Villa              41.900000   39.5  12.564942  17   64  10.700000   \n",
            "Birmingham City          44.500000   44.5   7.778175  39   50  10.500000   \n",
            "Blackburn Rovers         41.333333   43.0   9.609024  31   50  10.666667   \n",
            "Bolton Wanderers         40.333333   39.0   5.131601  36   46  10.666667   \n",
            "Bournemouth              42.200000   44.0   4.816638  34   46  11.200000   \n",
            "Brighton & Hove Albion   41.800000   41.0   5.540758  36   51   9.600000   \n",
            "Burnley                  40.625000   39.5   8.975164  30   54  10.375000   \n",
            "Cardiff City             32.000000   32.0   2.828427  30   34   8.500000   \n",
            "Chelsea                  73.615385   72.0  11.383749  50   93  21.769231   \n",
            "Crystal Palace           44.888889   44.0   2.848001  41   49  12.000000   \n",
            "Everton                  54.692308   54.0   8.654330  39   72  14.615385   \n",
            "Fulham                   39.428571   43.0  10.580755  26   52   9.857143   \n",
            "Huddersfield Town        26.500000   26.5  14.849242  16   37   6.000000   \n",
            "Hull City                34.000000   34.5   2.943920  30   37   8.250000   \n",
            "Leeds United             48.500000   48.5  14.849242  38   59  13.500000   \n",
            "Leicester City           55.625000   52.0  13.319561  41   81  15.625000   \n",
            "Liverpool                72.923077   69.0  15.713378  52   99  21.384615   \n",
            "Manchester City          82.461538   81.0  10.890480  66  100  25.307692   \n",
            "Manchester United        73.615385   70.0  10.177905  58   89  21.615385   \n",
            "Newcastle United         45.818182   45.0   7.373170  37   65  12.272727   \n",
            "Norwich City             33.500000   33.5  10.784248  21   47   8.166667   \n",
            "Queens Park Rangers      30.666667   30.0   6.027714  25   37   7.333333   \n",
            "Sheffield United         38.500000   38.5  21.920310  23   54  10.500000   \n",
            "Southampton              47.600000   44.5   9.512565  36   63  12.400000   \n",
            "Stoke City               45.777778   46.0   6.078194  33   54  11.555556   \n",
            "Sunderland               39.250000   39.0   7.086204  24   47   9.375000   \n",
            "Swansea City             44.571429   46.0   7.044079  33   56  11.714286   \n",
            "Tottenham Hotspur        69.384615   70.0   7.030155  59   86  20.384615   \n",
            "Watford                  38.833333   40.5   9.410986  23   50  10.333333   \n",
            "West Bromwich Albion     40.888889   44.0   8.022538  26   49  10.000000   \n",
            "West Ham United          46.833333   45.5  10.169771  33   65  12.333333   \n",
            "Wigan Athletic           39.250000   39.0   3.774917  36   43   9.500000   \n",
            "Wolverhampton Wanderers  45.000000   45.0  11.902381  25   59  11.857143   \n",
            "\n",
            "                                                  ...         GF         \\\n",
            "                        median       std min max  ...       mean median   \n",
            "Team                                              ...                     \n",
            "Arsenal                   21.0  2.633609  14  24  ...  69.307692   72.0   \n",
            "Aston Villa               10.0  4.110961   3  17  ...  42.900000   44.0   \n",
            "Birmingham City           10.5  3.535534   8  13  ...  37.500000   37.5   \n",
            "Blackburn Rovers          11.0  2.516611   8  13  ...  45.000000   46.0   \n",
            "Bolton Wanderers          10.0  1.154701  10  12  ...  46.666667   46.0   \n",
            "Bournemouth               11.0  1.483240   9  13  ...  48.200000   45.0   \n",
            "Brighton & Hove Albion     9.0  1.341641   9  12  ...  38.000000   39.0   \n",
            "Burnley                   10.5  3.020761   7  15  ...  37.500000   37.5   \n",
            "Cardiff City               8.5  2.121320   7  10  ...  33.000000   33.0   \n",
            "Chelsea                   21.0  4.530523  12  30  ...  71.384615   69.0   \n",
            "Crystal Palace            12.0  1.118034  11  14  ...  43.000000   45.0   \n",
            "Everton                   15.0  2.844247  11  21  ...  52.153846   51.0   \n",
            "Fulham                    11.0  3.078342   5  14  ...  41.000000   40.0   \n",
            "Huddersfield Town          6.0  4.242641   3   9  ...  25.000000   25.0   \n",
            "Hull City                  8.5  1.707825   6  10  ...  35.500000   35.5   \n",
            "Leeds United              13.5  6.363961   9  18  ...  52.000000   52.0   \n",
            "Leicester City            14.5  4.307386  11  23  ...  58.250000   59.0   \n",
            "Liverpool                 20.0  5.838642  14  32  ...  73.230769   71.0   \n",
            "Manchester City           26.0  4.479297  18  32  ...  85.615385   83.0   \n",
            "Manchester United         20.0  4.133974  16  28  ...  69.000000   66.0   \n",
            "Newcastle United          12.0  2.723634   9  19  ...  44.818182   44.0   \n",
            "Norwich City               8.5  2.786874   5  12  ...  34.833333   33.5   \n",
            "Queens Park Rangers        8.0  3.055050   4  10  ...  38.333333   42.0   \n",
            "Sheffield United          10.5  4.949747   7  14  ...  29.500000   29.5   \n",
            "Southampton               12.0  3.949684   7  18  ...  48.000000   48.0   \n",
            "Stoke City                11.0  2.505549   7  15  ...  40.000000   41.0   \n",
            "Sunderland                 9.5  2.065879   6  12  ...  41.000000   43.0   \n",
            "Swansea City              12.0  2.360387   8  16  ...  43.714286   45.0   \n",
            "Tottenham Hotspur         21.0  2.844247  16  26  ...  66.230769   67.0   \n",
            "Watford                   11.0  2.875181   6  14  ...  41.000000   40.0   \n",
            "West Bromwich Albion      11.0  3.240370   5  14  ...  42.000000   43.0   \n",
            "West Ham United           12.0  3.550501   7  19  ...  50.166667   47.5   \n",
            "Wigan Athletic             9.0  1.000000   9  11  ...  41.500000   41.0   \n",
            "Wolverhampton Wanderers   12.0  3.933979   5  16  ...  41.428571   40.0   \n",
            "\n",
            "                                                    GA                        \\\n",
            "                               std min  max       mean median        std min   \n",
            "Team                                                                           \n",
            "Arsenal                   8.127983  55   83  43.384615   43.0   5.560852  36   \n",
            "Aston Villa               9.445163  27   55  58.100000   58.0  10.969149  39   \n",
            "Birmingham City           0.707107  37   38  52.500000   52.5   7.778175  47   \n",
            "Blackburn Rovers          3.605551  41   48  64.000000   59.0  12.288206  55   \n",
            "Bolton Wanderers          5.033223  42   52  66.666667   67.0  10.503968  56   \n",
            "Bournemouth               6.978539  40   56  66.000000   67.0   3.316625  61   \n",
            "Brighton & Hove Albion    3.391165  34   42  51.600000   54.0   6.542171  44   \n",
            "Burnley                   5.781745  28   45  56.875000   54.0  12.866762  39   \n",
            "Cardiff City              1.414214  32   34  71.500000   71.5   3.535534  69   \n",
            "Chelsea                  12.128056  58  103  38.076923   36.0   8.260968  27   \n",
            "Crystal Palace            7.466592  31   51  53.666667   51.0   6.708204  46   \n",
            "Everton                   6.841615  43   62  48.923077   48.0   8.004806  39   \n",
            "Fulham                    8.602325  27   50  59.857143   53.0  16.737469  43   \n",
            "Huddersfield Town         4.242641  22   28  67.000000   67.0  12.727922  58   \n",
            "Hull City                 2.380476  33   38  64.750000   64.0  14.885675  51   \n",
            "Leeds United             14.142136  42   62  66.500000   66.5  17.677670  54   \n",
            "Leicester City            9.207916  46   68  51.500000   52.5   9.546877  36   \n",
            "Liverpool                16.724004  47  101  39.461538   42.0   8.617960  22   \n",
            "Manchester City          15.091601  60  106  33.769231   34.0   6.352871  23   \n",
            "Manchester United        12.727922  49   89  38.769231   37.0   9.202842  28   \n",
            "Newcastle United          6.063302  38   56  58.181818   59.0   6.911124  47   \n",
            "Norwich City             11.089034  23   52  68.666667   66.5   9.416298  58   \n",
            "Queens Park Rangers       7.234178  30   43  66.333333   66.0   6.506407  60   \n",
            "Sheffield United         13.435029  20   39  51.000000   51.0  16.970563  39   \n",
            "Southampton               6.733003  37   59  54.400000   58.0  11.880890  33   \n",
            "Stoke City                5.477226  34   48  52.222222   52.0   7.172478  45   \n",
            "Sunderland                7.309485  29   48  57.000000   56.0   6.824326  46   \n",
            "Swansea City              7.889112  28   54  54.714286   52.0   7.111359  49   \n",
            "Tottenham Hotspur         8.257863  55   86  42.000000   41.0   7.211103  26   \n",
            "Watford                   6.418723  34   52  63.666667   64.0   9.003703  50   \n",
            "West Bromwich Albion      8.500000  31   56  57.888889   56.0   9.571369  48   \n",
            "West Ham United           8.009464  40   65  57.083333   54.0   8.382431  47   \n",
            "Wigan Athletic            4.203173  37   47  68.750000   67.5   8.732125  61   \n",
            "Wolverhampton Wanderers   6.778819  32   51  55.000000   52.0  14.776107  40   \n",
            "\n",
            "                             \n",
            "                        max  \n",
            "Team                         \n",
            "Arsenal                  51  \n",
            "Aston Villa              76  \n",
            "Birmingham City          58  \n",
            "Blackburn Rovers         78  \n",
            "Bolton Wanderers         77  \n",
            "Bournemouth              70  \n",
            "Brighton & Hove Albion   60  \n",
            "Burnley                  82  \n",
            "Cardiff City             74  \n",
            "Chelsea                  54  \n",
            "Crystal Palace           66  \n",
            "Everton                  66  \n",
            "Fulham                   85  \n",
            "Huddersfield Town        76  \n",
            "Hull City                80  \n",
            "Leeds United             79  \n",
            "Leicester City           63  \n",
            "Liverpool                50  \n",
            "Manchester City          45  \n",
            "Manchester United        57  \n",
            "Newcastle United         68  \n",
            "Norwich City             84  \n",
            "Queens Park Rangers      73  \n",
            "Sheffield United         63  \n",
            "Southampton              68  \n",
            "Stoke City               68  \n",
            "Sunderland               69  \n",
            "Swansea City             70  \n",
            "Tottenham Hotspur        53  \n",
            "Watford                  77  \n",
            "West Bromwich Albion     76  \n",
            "West Ham United          70  \n",
            "Wigan Athletic           79  \n",
            "Wolverhampton Wanderers  82  \n",
            "\n",
            "[34 rows x 30 columns]\n"
          ]
        }
      ]
    },
    {
      "cell_type": "code",
      "source": [
        "#Arsenal stats\n",
        "team_stats.loc[\"Arsenal\"]"
      ],
      "metadata": {
        "id": "YstSMfHg6hfU",
        "colab": {
          "base_uri": "https://localhost:8080/"
        },
        "outputId": "c1bf8ac9-374f-46e6-ac6d-f8be8fd28b39"
      },
      "execution_count": 107,
      "outputs": [
        {
          "output_type": "execute_result",
          "data": {
            "text/plain": [
              "Pts  mean      69.615385\n",
              "     median    70.000000\n",
              "     std        6.423115\n",
              "     min       56.000000\n",
              "     max       79.000000\n",
              "W    mean      20.538462\n",
              "     median    21.000000\n",
              "     std        2.633609\n",
              "     min       14.000000\n",
              "     max       24.000000\n",
              "L    mean       9.461538\n",
              "     median     9.000000\n",
              "     std        2.331501\n",
              "     min        7.000000\n",
              "     max       13.000000\n",
              "D    mean       8.000000\n",
              "     median     7.000000\n",
              "     std        2.886751\n",
              "     min        3.000000\n",
              "     max       14.000000\n",
              "GF   mean      69.307692\n",
              "     median    72.000000\n",
              "     std        8.127983\n",
              "     min       55.000000\n",
              "     max       83.000000\n",
              "GA   mean      43.384615\n",
              "     median    43.000000\n",
              "     std        5.560852\n",
              "     min       36.000000\n",
              "     max       51.000000\n",
              "Name: Arsenal, dtype: float64"
            ]
          },
          "metadata": {},
          "execution_count": 107
        }
      ]
    },
    {
      "cell_type": "code",
      "source": [
        "#top 3 of each variable per team\n",
        "team_stats = PL.groupby(\"Team\").agg({\n",
        "    \"Pts\": lambda x: x.nlargest(3).tolist(),\n",
        "    \"W\": lambda x: x.nlargest(3).tolist(),\n",
        "    \"L\": lambda x: x.nsmallest(3).tolist(),\n",
        "    \"D\": lambda x: x.nlargest(3).tolist(),\n",
        "    \"GF\": lambda x: x.nlargest(3).tolist(),\n",
        "    \"GA\": lambda x: x.nsmallest(3).tolist()\n",
        "})"
      ],
      "metadata": {
        "id": "phhK2wcD6hdP"
      },
      "execution_count": 108,
      "outputs": []
    },
    {
      "cell_type": "code",
      "source": [
        "print(team_stats)"
      ],
      "metadata": {
        "id": "kY1wZ68K6hbb",
        "colab": {
          "base_uri": "https://localhost:8080/"
        },
        "outputId": "003f6c54-989b-48dd-991c-591f858eef10"
      },
      "execution_count": 109,
      "outputs": [
        {
          "output_type": "stream",
          "name": "stdout",
          "text": [
            "                                   Pts             W             L  \\\n",
            "Team                                                                 \n",
            "Arsenal                   [79, 75, 75]  [24, 23, 23]     [7, 7, 7]   \n",
            "Aston Villa               [64, 55, 48]  [17, 16, 13]   [8, 14, 14]   \n",
            "Birmingham City               [50, 39]       [13, 8]      [14, 15]   \n",
            "Blackburn Rovers          [50, 43, 31]   [13, 11, 8]  [14, 17, 23]   \n",
            "Blackpool                         [39]          [10]          [19]   \n",
            "Bolton Wanderers          [46, 39, 36]  [12, 10, 10]  [16, 19, 22]   \n",
            "Bournemouth               [46, 45, 44]  [13, 12, 11]  [16, 16, 18]   \n",
            "Brentford                         [46]          [13]          [18]   \n",
            "Brighton & Hove Albion    [51, 41, 41]    [12, 9, 9]  [11, 15, 15]   \n",
            "Burnley                   [54, 54, 40]  [15, 14, 11]  [12, 14, 17]   \n",
            "Cardiff City                  [34, 30]       [10, 7]      [22, 24]   \n",
            "Chelsea                   [93, 87, 86]  [30, 27, 26]     [3, 5, 6]   \n",
            "Crystal Palace            [49, 48, 48]  [14, 13, 13]  [12, 16, 16]   \n",
            "Everton                   [72, 63, 61]  [21, 17, 17]     [7, 8, 9]   \n",
            "Fulham                    [52, 49, 46]  [14, 12, 11]  [11, 14, 16]   \n",
            "Huddersfield Town             [37, 16]        [9, 3]      [19, 28]   \n",
            "Hull City                 [37, 35, 34]    [10, 9, 8]  [19, 20, 21]   \n",
            "Leeds United                  [59, 38]       [18, 9]      [15, 18]   \n",
            "Leicester City            [81, 66, 62]  [23, 20, 18]   [3, 12, 12]   \n",
            "Liverpool                 [99, 97, 92]  [32, 30, 28]     [1, 2, 3]   \n",
            "Manchester City          [100, 98, 93]  [32, 32, 29]     [2, 3, 4]   \n",
            "Manchester United         [89, 89, 85]  [28, 28, 27]     [4, 5, 5]   \n",
            "Middlesbrough                     [28]           [5]          [20]   \n",
            "Newcastle United          [65, 49, 49]  [19, 15, 13]  [11, 14, 15]   \n",
            "Norwich City              [47, 44, 34]   [12, 10, 9]  [14, 15, 21]   \n",
            "Portsmouth                        [19]           [7]          [24]   \n",
            "Queens Park Rangers       [37, 30, 25]    [10, 8, 4]  [21, 21, 24]   \n",
            "Reading                           [28]           [6]          [22]   \n",
            "Sheffield United              [54, 23]       [14, 7]      [12, 29]   \n",
            "Southampton               [63, 60, 56]  [18, 18, 15]  [11, 12, 14]   \n",
            "Stoke City                [54, 51, 50]  [15, 14, 13]  [13, 14, 14]   \n",
            "Sunderland                [47, 45, 44]  [12, 11, 11]  [14, 15, 15]   \n",
            "Swansea City              [56, 47, 47]  [16, 12, 12]  [14, 14, 15]   \n",
            "Tottenham Hotspur         [86, 77, 72]  [26, 23, 23]     [4, 6, 7]   \n",
            "Watford                   [50, 45, 41]  [14, 12, 11]  [16, 17, 19]   \n",
            "West Bromwich Albion      [49, 47, 47]  [14, 13, 12]  [15, 15, 16]   \n",
            "West Ham United           [65, 62, 56]  [19, 16, 16]   [8, 11, 14]   \n",
            "Wigan Athletic            [43, 42, 36]    [11, 9, 9]  [14, 17, 20]   \n",
            "Wolverhampton Wanderers   [59, 57, 51]  [16, 15, 15]   [9, 13, 17]   \n",
            "\n",
            "                                    D               GF            GA  \n",
            "Team                                                                  \n",
            "Arsenal                  [14, 11, 11]     [83, 77, 74]  [36, 36, 37]  \n",
            "Aston Villa              [17, 13, 12]     [55, 52, 52]  [39, 46, 53]  \n",
            "Birmingham City              [15, 11]         [38, 37]      [47, 58]  \n",
            "Blackburn Rovers          [11, 10, 7]     [48, 46, 41]  [55, 59, 78]  \n",
            "Blackpool                         [9]             [55]          [78]  \n",
            "Bolton Wanderers           [10, 9, 6]     [52, 46, 42]  [56, 67, 77]  \n",
            "Bournemouth               [11, 10, 9]     [56, 55, 45]  [61, 65, 67]  \n",
            "Brentford                         [7]             [48]          [56]  \n",
            "Brighton & Hove Albion   [15, 14, 14]     [42, 40, 39]  [44, 46, 54]  \n",
            "Burnley                  [14, 12, 12]     [45, 43, 42]  [39, 50, 53]  \n",
            "Cardiff City                   [9, 4]         [34, 32]      [69, 74]  \n",
            "Chelsea                  [14, 11, 10]    [103, 85, 76]  [27, 32, 32]  \n",
            "Crystal Palace           [15, 11, 10]     [51, 50, 50]  [46, 48, 50]  \n",
            "Everton                  [15, 15, 14]     [62, 61, 60]  [39, 40, 40]  \n",
            "Fulham                   [16, 13, 10]     [50, 49, 48]  [43, 46, 51]  \n",
            "Huddersfield Town             [10, 7]         [28, 22]      [58, 76]  \n",
            "Hull City                 [12, 11, 7]     [38, 37, 34]  [51, 53, 75]  \n",
            "Leeds United                  [11, 5]         [62, 42]      [54, 79]  \n",
            "Leicester City           [12, 11, 10]     [68, 68, 67]  [36, 41, 48]  \n",
            "Liverpool                [13, 12, 12]    [101, 94, 89]  [22, 26, 33]  \n",
            "Manchester City            [13, 9, 9]  [106, 102, 102]  [23, 26, 27]  \n",
            "Manchester United        [15, 12, 11]     [89, 86, 86]  [28, 28, 29]  \n",
            "Middlesbrough                    [13]             [27]          [53]  \n",
            "Newcastle United         [13, 11, 10]     [56, 56, 46]  [47, 48, 51]  \n",
            "Norwich City              [14, 11, 9]     [52, 41, 39]  [58, 62, 66]  \n",
            "Portsmouth                        [7]             [34]          [66]  \n",
            "Queens Park Rangers        [13, 7, 6]     [43, 42, 30]  [60, 66, 73]  \n",
            "Reading                          [10]             [43]          [73]  \n",
            "Sheffield United              [12, 2]         [39, 20]      [39, 63]  \n",
            "Southampton              [15, 14, 13]     [59, 54, 54]  [33, 41, 46]  \n",
            "Stoke City               [15, 14, 12]     [48, 46, 45]  [45, 45, 48]  \n",
            "Sunderland               [17, 12, 12]     [48, 48, 45]  [46, 53, 54]  \n",
            "Swansea City             [13, 11, 11]     [54, 47, 46]  [49, 51, 51]  \n",
            "Tottenham Hotspur        [14, 13, 11]     [86, 74, 69]  [26, 35, 36]  \n",
            "Watford                    [10, 9, 8]     [52, 44, 40]  [50, 59, 64]  \n",
            "West Bromwich Albion     [15, 13, 13]     [56, 53, 45]  [48, 51, 51]  \n",
            "West Ham United          [14, 12, 12]     [65, 62, 60]  [47, 47, 51]  \n",
            "Wigan Athletic            [15, 10, 9]     [47, 42, 40]  [61, 62, 73]  \n",
            "Wolverhampton Wanderers  [14, 11, 10]     [51, 47, 46]  [40, 43, 46]  \n"
          ]
        }
      ]
    },
    {
      "cell_type": "markdown",
      "source": [
        "# Points"
      ],
      "metadata": {
        "id": "jQC9MXIF7BxN"
      }
    },
    {
      "cell_type": "code",
      "source": [
        "#top20 teams with the most points added\n",
        "df = PL\n",
        "\n",
        "#group the data of the teams and add up the points\n",
        "df_points = df.groupby('Team')['Pts'].sum().reset_index()\n",
        "\n",
        "#sort teams by points in descending order and displaying the top 20\n",
        "df_points = df_points.sort_values(by='Pts', ascending=False).reset_index(drop=True)\n",
        "print(df_points.head(39))"
      ],
      "metadata": {
        "id": "Z5Te1WBFmjmj",
        "colab": {
          "base_uri": "https://localhost:8080/"
        },
        "outputId": "25262834-d3f8-4d5e-973c-7bc83c2bd39d"
      },
      "execution_count": 110,
      "outputs": [
        {
          "output_type": "stream",
          "name": "stdout",
          "text": [
            "                       Team   Pts\n",
            "0           Manchester City  1072\n",
            "1                   Chelsea   957\n",
            "2         Manchester United   957\n",
            "3                 Liverpool   948\n",
            "4                   Arsenal   905\n",
            "5         Tottenham Hotspur   902\n",
            "6                   Everton   711\n",
            "7           West Ham United   562\n",
            "8          Newcastle United   504\n",
            "9               Southampton   476\n",
            "10           Leicester City   445\n",
            "11              Aston Villa   419\n",
            "12               Stoke City   412\n",
            "13           Crystal Palace   404\n",
            "14     West Bromwich Albion   368\n",
            "15                  Burnley   325\n",
            "16  Wolverhampton Wanderers   315\n",
            "17               Sunderland   314\n",
            "18             Swansea City   312\n",
            "19                   Fulham   276\n",
            "20                  Watford   233\n",
            "21              Bournemouth   211\n",
            "22   Brighton & Hove Albion   209\n",
            "23             Norwich City   201\n",
            "24           Wigan Athletic   157\n",
            "25                Hull City   136\n",
            "26         Blackburn Rovers   124\n",
            "27         Bolton Wanderers   121\n",
            "28             Leeds United    97\n",
            "29      Queens Park Rangers    92\n",
            "30          Birmingham City    89\n",
            "31         Sheffield United    77\n",
            "32             Cardiff City    64\n",
            "33        Huddersfield Town    53\n",
            "34                Brentford    46\n",
            "35                Blackpool    39\n",
            "36                  Reading    28\n",
            "37            Middlesbrough    28\n",
            "38               Portsmouth    19\n"
          ]
        }
      ]
    },
    {
      "cell_type": "code",
      "source": [
        "df = PL\n",
        "\n",
        "#group by team and add up the points\n",
        "df_points = df.groupby('Team')['Pts'].sum().reset_index()\n",
        "\n",
        "bins = [0, 300, 600, 1000, float('inf')]\n",
        "labels = ['0-300', '301-600', '601-1000', '1001+']\n",
        "\n",
        "#create a new column in the database with the category of points for each team\n",
        "df_points['intervalo'] = pd.cut(df_points['Pts'], bins=bins, labels=labels)\n",
        "\n",
        "for intervalo, group in df_points.groupby('intervalo'):\n",
        "    print(f\"Teams with scores between {intervalo}:\")\n",
        "    print(group['Team'].to_list())"
      ],
      "metadata": {
        "id": "FltSUX-VmcNW",
        "colab": {
          "base_uri": "https://localhost:8080/"
        },
        "outputId": "b7f21cd6-e678-4f81-a959-cfe6780cc376"
      },
      "execution_count": 111,
      "outputs": [
        {
          "output_type": "stream",
          "name": "stdout",
          "text": [
            "Teams with scores between 0-300:\n",
            "['Birmingham City', 'Blackburn Rovers', 'Blackpool', 'Bolton Wanderers', 'Bournemouth', 'Brentford', 'Brighton & Hove Albion', 'Cardiff City', 'Fulham', 'Huddersfield Town', 'Hull City', 'Leeds United', 'Middlesbrough', 'Norwich City', 'Portsmouth', 'Queens Park Rangers', 'Reading', 'Sheffield United', 'Watford', 'Wigan Athletic']\n",
            "Teams with scores between 301-600:\n",
            "['Aston Villa', 'Burnley', 'Crystal Palace', 'Leicester City', 'Newcastle United', 'Southampton', 'Stoke City', 'Sunderland', 'Swansea City', 'West Bromwich Albion', 'West Ham United', 'Wolverhampton Wanderers']\n",
            "Teams with scores between 601-1000:\n",
            "['Arsenal', 'Chelsea', 'Everton', 'Liverpool', 'Manchester United', 'Tottenham Hotspur']\n",
            "Teams with scores between 1001+:\n",
            "['Manchester City']\n"
          ]
        }
      ]
    },
    {
      "cell_type": "markdown",
      "source": [
        "### Question 5 - What is the variable that most influences the increase in points?"
      ],
      "metadata": {
        "id": "_pB2IYfUnLoM"
      }
    },
    {
      "cell_type": "markdown",
      "source": [
        "\n",
        "###Explanation\n",
        "- A angular coefficient of 0.89 indicates a strong positive relationship between the Pts and GF variables. This means that an increase in GF is associated with an increase in Pts. The coefficient value indicates that, on average, an increase of one unit in GF is associated with an increase of 0.89 units in Pts.\n",
        "\n",
        "- A linear coefficient of 5.71 means that when the independent variable (GF) is equal to zero, the dependent variable (Pts) has an initial value of 5.71. This can be interpreted as a sort of \"base score\" or \"minimum score\" for a team that has not scored a single goal during the season.\n",
        "\n",
        "- An R² value of 0.97 indicates that the linear relationship between GF and Pts is very strong, as about 97% of the variation in Pts can be explained by the variation in GF. This suggests that the GF variable is a good predictor of the Pts variable and that linear regression is a good choice for modeling the relationship between the two variables."
      ],
      "metadata": {
        "id": "hvZi6HTVy60C"
      }
    },
    {
      "cell_type": "code",
      "source": [
        "PtsW = PL\n",
        "\n",
        "# variables of interest\n",
        "X = PtsW['Pts'].values.reshape(-1, 1)\n",
        "y = PtsW['W'].values\n",
        "\n",
        "#fit linear regression\n",
        "reg = LinearRegression().fit(X, y)\n",
        "\n",
        "r_squared = reg.score(X, y)\n",
        "print(f\"Angular coefficient: {reg.coef_[0]:.2f}\")\n",
        "print(f\"Linear coefficient: {reg.intercept_:.2f}\")\n",
        "print(f\"R²: {r_squared:.2f}\")"
      ],
      "metadata": {
        "id": "xMvNcnwR6hPr",
        "colab": {
          "base_uri": "https://localhost:8080/"
        },
        "outputId": "d674a79a-5565-430f-82c5-ff11dc2f492d"
      },
      "execution_count": 112,
      "outputs": [
        {
          "output_type": "stream",
          "name": "stdout",
          "text": [
            "Angular coefficient: 0.35\n",
            "Linear coefficient: -3.77\n",
            "R²: 0.97\n"
          ]
        }
      ]
    },
    {
      "cell_type": "code",
      "source": [
        "PtsD = PL\n",
        "\n",
        "#variables of interest\n",
        "X = PtsD['Pts'].values.reshape(-1, 1)\n",
        "y = PtsD['D'].values\n",
        "\n",
        "#fit linear regression\n",
        "reg = LinearRegression().fit(X, y)\n",
        "\n",
        "r_squared = reg.score(X, y)\n",
        "print(f\"Angular coefficient: {reg.coef_[0]:.2f}\")\n",
        "print(f\"Linear coefficient: {reg.intercept_:.2f}\")\n",
        "print(f\"R²: {r_squared:.2f}\")"
      ],
      "metadata": {
        "id": "DL84dCZl7Iqc",
        "colab": {
          "base_uri": "https://localhost:8080/"
        },
        "outputId": "18589cb9-a217-479a-e63f-7a3b30192262"
      },
      "execution_count": 113,
      "outputs": [
        {
          "output_type": "stream",
          "name": "stdout",
          "text": [
            "Angular coefficient: -0.04\n",
            "Linear coefficient: 11.54\n",
            "R²: 0.07\n"
          ]
        }
      ]
    },
    {
      "cell_type": "code",
      "source": [
        "PtsL = PL\n",
        "\n",
        "#variables of interest\n",
        "X = PtsL['Pts'].values.reshape(-1, 1)\n",
        "y = PtsL['L'].values\n",
        "\n",
        "#fit linear regression\n",
        "reg = LinearRegression().fit(X, y)\n",
        "\n",
        "r_squared = reg.score(X, y)\n",
        "print(f\"Angular coefficient: {reg.coef_[0]:.2f}\")\n",
        "print(f\"Linear coefficient: {reg.intercept_:.2f}\")\n",
        "print(f\"R²: {r_squared:.2f}\")"
      ],
      "metadata": {
        "id": "ZQNmCNlB7Iol",
        "colab": {
          "base_uri": "https://localhost:8080/"
        },
        "outputId": "28546bb0-7abf-45d5-d67d-61e6195bfe91"
      },
      "execution_count": 114,
      "outputs": [
        {
          "output_type": "stream",
          "name": "stdout",
          "text": [
            "Angular coefficient: -0.30\n",
            "Linear coefficient: 30.23\n",
            "R²: 0.89\n"
          ]
        }
      ]
    },
    {
      "cell_type": "code",
      "source": [
        "PtsGF = PL\n",
        "\n",
        "# variables of interest\n",
        "X = PtsGF['Pts'].values.reshape(-1, 1)\n",
        "y = PtsGF['GF'].values\n",
        "\n",
        "#fit linear regression\n",
        "reg = LinearRegression().fit(X, y)\n",
        "\n",
        "r_squared = reg.score(X, y)\n",
        "print(f\"Angular coefficient: {reg.coef_[0]:.2f}\")\n",
        "print(f\"Linear coefficient: {reg.intercept_:.2f}\")\n",
        "print(f\"R²: {r_squared:.2f}\")"
      ],
      "metadata": {
        "id": "XQavKyfZ6hVH",
        "colab": {
          "base_uri": "https://localhost:8080/"
        },
        "outputId": "7743b5e0-39e1-4812-b518-687fa478429c"
      },
      "execution_count": 115,
      "outputs": [
        {
          "output_type": "stream",
          "name": "stdout",
          "text": [
            "Angular coefficient: 0.89\n",
            "Linear coefficient: 5.71\n",
            "R²: 0.84\n"
          ]
        }
      ]
    },
    {
      "cell_type": "code",
      "source": [
        "PtsGD = PL\n",
        "\n",
        "#variables of interest\n",
        "X = PtsGD['Pts'].values.reshape(-1, 1)\n",
        "y = PtsGD['GD'].values\n",
        "\n",
        "#fit linear regression\n",
        "reg = LinearRegression().fit(X, y)\n",
        "\n",
        "r_squared = reg.score(X, y)\n",
        "print(f\"Angular coefficient: {reg.coef_[0]:.2f}\")\n",
        "print(f\"Linear coefficient: {reg.intercept_:.2f}\")\n",
        "print(f\"R²: {r_squared:.2f}\")"
      ],
      "metadata": {
        "id": "zqzoY4hI7ImG",
        "colab": {
          "base_uri": "https://localhost:8080/"
        },
        "outputId": "b986fcdf-a7b5-4115-fd66-17e018515f45"
      },
      "execution_count": 116,
      "outputs": [
        {
          "output_type": "stream",
          "name": "stdout",
          "text": [
            "Angular coefficient: 1.52\n",
            "Linear coefficient: -79.58\n",
            "R²: 0.93\n"
          ]
        }
      ]
    },
    {
      "cell_type": "code",
      "source": [
        "PtsGA = PL\n",
        "\n",
        "#variables of interest\n",
        "X = PtsGA['Pts'].values.reshape(-1, 1)\n",
        "y = PtsGA['GA'].values\n",
        "\n",
        "#fit linear regression\n",
        "reg = LinearRegression().fit(X, y)\n",
        "\n",
        "r_squared = reg.score(X, y)\n",
        "print(f\"Angular coefficient: {reg.coef_[0]:.2f}\")\n",
        "print(f\"Linear coefficient: {reg.intercept_:.2f}\")\n",
        "print(f\"R²: {r_squared:.2f}\")"
      ],
      "metadata": {
        "id": "CHL56KdB7IkL",
        "colab": {
          "base_uri": "https://localhost:8080/"
        },
        "outputId": "a7d85102-0d70-42f3-c3fd-996177033bf2"
      },
      "execution_count": 117,
      "outputs": [
        {
          "output_type": "stream",
          "name": "stdout",
          "text": [
            "Angular coefficient: -0.63\n",
            "Linear coefficient: 85.29\n",
            "R²: 0.71\n"
          ]
        }
      ]
    },
    {
      "cell_type": "markdown",
      "source": [
        "- We can see from R² that what has the greatest influence on the increase in points will be the number of victories, with a very strong ratio of 97%, then with GD with a ratio of 93%, L with a ratio of 89%, GF with a ratio of 84%, AD with 71% and with a lower ratio we will have the variable D."
      ],
      "metadata": {
        "id": "IZpANpP7z-42"
      }
    },
    {
      "cell_type": "markdown",
      "source": [
        "# Final Considerations"
      ],
      "metadata": {
        "id": "7myScJMrgoRs"
      }
    },
    {
      "cell_type": "markdown",
      "source": [
        "####During the decade between 2010 and 2022, the Premier League established itself as the richest and most competitive football league in the world, with some of the sport's most talented and iconic players and managers. Since the rise of Manchester City under manager Pep Guardiola, the league has seen a huge shift in the balance of power, with City, Liverpool, Chelsea and United emerging as the main contenders for the title, not forgetting the unforgettable Leicester.\n",
        "####However, the Premier League has also faced challenges such as the COVID-19 pandemic which has affected the league calendar, and issues around racism and diversity in football, leading to important actions and campaigns to promote inclusion and equality.\n",
        "####Overall, the Premier League has continued to be one of the world's most exciting and unpredictable competitions, attracting fans from far and wide and establishing itself as a mainstay of global football."
      ],
      "metadata": {
        "id": "LefG2s9mshsW"
      }
    },
    {
      "cell_type": "markdown",
      "source": [
        "<img src=\"https://encrypted-tbn0.gstatic.com/images?q=tbn:ANd9GcQdPnJJH_nfnmGbnI6erZ942vMsWlOyB--HYIiDnlnzi1-jqvvseJlotPuXEw5rmVpNK5I&usqp=CAU\">"
      ],
      "metadata": {
        "id": "yaLBt7mpvrbq"
      }
    },
    {
      "cell_type": "code",
      "source": [],
      "metadata": {
        "id": "yJUohFCqCMrR"
      },
      "execution_count": 117,
      "outputs": []
    }
  ]
}